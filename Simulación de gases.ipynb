{
 "cells": [
  {
   "cell_type": "markdown",
   "metadata": {},
   "source": [
    "# <center> Simulación de Gases de Lennard-Jones *Reversible* "
   ]
  },
  {
   "cell_type": "markdown",
   "metadata": {},
   "source": [
    "El potencial de Lennard-Jones entre dos partículas $i, j$ separadas una distancia $r_{ij}$ es:\n",
    "\n",
    "$$ U_{LJ}(r_{ij}) = 4\\epsilon \\left[ \\left( \\frac{\\sigma}{r_{ij}} \\right)^{12} - \\left( \\frac{\\sigma}{r_{ij}} \\right)^6 \\right] $$\n",
    "\n",
    "Y la fuerza asociada es:\n",
    "\n",
    "$$ \\vec F_{LJ}(r_ij) = -\\nabla U_{LJ}(r_{ij}) = -48\\epsilon \\left[ \\left( \\frac{\\sigma}{r_{ij}} \\right)^{12} - \\frac{1}{2}\\left( \\frac{\\sigma}{r_{ij}} \\right)^6 \\right] \\frac{\\vec r_{ij}}{r_{ij}} $$"
   ]
  },
  {
   "cell_type": "markdown",
   "metadata": {},
   "source": [
    "Para evitar calculos poco relevantes para distancias largas se utiliza un **potencial truncado** suavemente a una distancia crítica **$r_c$**:\n",
    "\n",
    "$$ U(r) = \\left\\{ \t\n",
    "    \\begin{array}{ll}\n",
    "        U_{LJ}(r) - U_{LJ}(r_c) + 48\\epsilon \\left[ \\left( \\frac{\\sigma}{r_{ij}} \\right)^{12} - \\frac{1}{2}\\left( \\frac{\\sigma}{r_{ij}} \\right)^6 \\right] \\frac{r_-r_c}{r_c}  \n",
    "        & \\mbox{if } r < r_c \\\\\n",
    "\t\t0 & \\mbox{if } r \\geq r_c\n",
    "\t\\end{array}  \n",
    "\\right.\n",
    "$$"
   ]
  },
  {
   "cell_type": "markdown",
   "metadata": {},
   "source": [
    "$$ \\vec F(r) = \\left\\{ \t\n",
    "\\begin{array}{ll}\n",
    "48\\epsilon \\left[ \\left( \\frac{\\sigma}{r} \\right)^{12} - \\frac{1}{2}\\left( \\frac{\\sigma}{r} \\right)^6 \\right] \\frac{\\hat r}{r^2}\n",
    "-\n",
    "48\\epsilon \\left[ \\left( \\frac{\\sigma}{r_c} \\right)^{12} - \\frac{1}{2}\\left( \\frac{\\sigma}{r_c} \\right)^6 \\right] \\frac{\\hat r}{r\\ r_c}\n",
    "  & \\mbox{if } r < r_c \\\\\n",
    "\t\t\\vec 0 & \\mbox{if } r \\geq r_c\n",
    "\t\\end{array}  \n",
    "\\right.\n",
    "$$"
   ]
  },
  {
   "cell_type": "markdown",
   "metadata": {},
   "source": [
    "### Algoritmo de Levesque-Verlet"
   ]
  },
  {
   "cell_type": "markdown",
   "metadata": {},
   "source": [
    "$$ r_i(t+\\Delta t) = - r_i(t-\\Delta t) + 2r_i(t) + \\frac{(\\Delta t)^2}{m} \\vec F (\\vec r (t)) + \\mathcal{O}((\\Delta t ^3)) $$\n",
    "\n",
    "discretizando\n",
    "\n",
    "$$ r_{i_{n+1}} = - r_{i_{n-1}} + 2r_{i_n} + \\frac{h^2}{m}  F_i(\\vec r_n)  + \\mathcal{O}(h^3) $$ "
   ]
  },
  {
   "cell_type": "markdown",
   "metadata": {},
   "source": [
    "#### Variables adimensionales"
   ]
  },
  {
   "cell_type": "markdown",
   "metadata": {},
   "source": [
    "$$ R = r\\ /\\ \\sigma $$\n",
    "\n",
    "$$ T = t\\ /\\ t_o = n\\Delta t\\ /\\ t_o = nh$$\n",
    "\n",
    "$$ t_o = \\sigma \\sqrt{m \\ /\\ \\epsilon} $$\n",
    "\n",
    "$$ R_c = 2.5 $$\n",
    "\n",
    "$$ h = 0.005 $$"
   ]
  },
  {
   "cell_type": "markdown",
   "metadata": {},
   "source": [
    "##### Para $R < R_c$\n",
    "\n",
    "$$ \\vec F_{adimensional} = (\\sigma \\ /\\ \\epsilon)\\vec F (\\vec R) = 48 \\left\\{ \\left(\\frac{1}{R}\\right)^{13} - \\left(\\frac{1}{R}\\right)^{7} - \\left[ \\left(\\frac{1}{R_c}\\right)^{13} - \\frac{1}{2}\\left(\\frac{1}{R_c}\\right)^{7} \\right] \\right\\} \\frac{\\vec R}{R} $$"
   ]
  },
  {
   "cell_type": "markdown",
   "metadata": {},
   "source": [
    "$$ \\vec R (n+1) = \\vec R(n-1) +2\\vec R(n) - h^2 \\vec F_{ad} (R(n)) $$"
   ]
  },
  {
   "cell_type": "code",
   "execution_count": 11,
   "metadata": {
    "collapsed": false
   },
   "outputs": [],
   "source": [
    "using ODE, PyPlot, Colors, Distributions"
   ]
  },
  {
   "cell_type": "markdown",
   "metadata": {},
   "source": [
    "Para este problema, necesitamos simular una caja de lado $L$ pero, como los números tipo `Float64` hacen operaciones de redondéo ya que difícilmente exísten en la representación binaria, se hará una transfórmación de la caja hacia una retícula en los enteros `Int64`.\n",
    "\n",
    "Para sistemas en el espacio libre, ie, $L \\to \\infty$, recurriremos al truco de **implementar fronteras periodicas**."
   ]
  },
  {
   "cell_type": "code",
   "execution_count": 140,
   "metadata": {
    "collapsed": false
   },
   "outputs": [
    {
     "data": {
      "text/plain": [
       "10.0"
      ]
     },
     "execution_count": 140,
     "metadata": {},
     "output_type": "execute_result"
    }
   ],
   "source": [
    "const L = 10. #100*2.5 # R_c = 2.5"
   ]
  },
  {
   "cell_type": "markdown",
   "metadata": {},
   "source": [
    "## Transformación a los Enteros\n",
    "\n",
    "Notemos los siguientes *detalles* sobre trabajar con enteros muy grandes ($\\sim 2^{64}$)"
   ]
  },
  {
   "cell_type": "code",
   "execution_count": 20,
   "metadata": {
    "collapsed": false
   },
   "outputs": [
    {
     "data": {
      "text/plain": [
       "0"
      ]
     },
     "execution_count": 20,
     "metadata": {},
     "output_type": "execute_result"
    }
   ],
   "source": [
    "2 ^ 64 #Ya no es representable por un Int64"
   ]
  },
  {
   "cell_type": "code",
   "execution_count": 21,
   "metadata": {
    "collapsed": false
   },
   "outputs": [
    {
     "data": {
      "text/plain": [
       "-9223372036854775808"
      ]
     },
     "execution_count": 21,
     "metadata": {},
     "output_type": "execute_result"
    }
   ],
   "source": [
    "2 ^ 63 #Tiene problemas de respresentación ya que un bit trabaja con el signo"
   ]
  },
  {
   "cell_type": "code",
   "execution_count": 30,
   "metadata": {
    "collapsed": false
   },
   "outputs": [
    {
     "data": {
      "text/plain": [
       "0"
      ]
     },
     "execution_count": 30,
     "metadata": {},
     "output_type": "execute_result"
    }
   ],
   "source": [
    "2000 * (2^62)"
   ]
  },
  {
   "cell_type": "markdown",
   "metadata": {},
   "source": [
    "Aún cuando $2^{62}$ ya es representable como un `Int64`, si el cálculo a priori a la transformación `Float`$\\to$ `Int` excede la máxima representación fiel de los tipo `Int64`, el resultado no será correcto.\n",
    "\n",
    "Debemos dar un espacio de cálculos. Así, la transformación a enteros o, visto en términos físicos, la resolución de cuadrícula de la caja debe ser un poquito menos refinada que $2^{62}$ para que podamos representar cualquier número calculado en las fuerzas del problema."
   ]
  },
  {
   "cell_type": "code",
   "execution_count": 141,
   "metadata": {
    "collapsed": false
   },
   "outputs": [
    {
     "data": {
      "text/plain": [
       "1152921504606846976"
      ]
     },
     "execution_count": 141,
     "metadata": {},
     "output_type": "execute_result"
    }
   ],
   "source": [
    "const flt_to_int = 2^60"
   ]
  },
  {
   "cell_type": "code",
   "execution_count": 45,
   "metadata": {
    "collapsed": false
   },
   "outputs": [
    {
     "data": {
      "text/plain": [
       "(2.91977371041684e18,Float64)"
      ]
     },
     "execution_count": 45,
     "metadata": {},
     "output_type": "execute_result"
    }
   ],
   "source": [
    "10.13* flt_to_int , typeof(10.13* flt_to_int) # 10.13 es un número de prueba nada más"
   ]
  },
  {
   "cell_type": "code",
   "execution_count": 47,
   "metadata": {
    "collapsed": false
   },
   "outputs": [
    {
     "data": {
      "text/plain": [
       "(2919773710416840192,Int64)"
      ]
     },
     "execution_count": 47,
     "metadata": {},
     "output_type": "execute_result"
    }
   ],
   "source": [
    "Int64(10.13 * flt_to_int) , typeof(Int64(2. * flt_to_int))"
   ]
  },
  {
   "cell_type": "code",
   "execution_count": 48,
   "metadata": {
    "collapsed": false
   },
   "outputs": [
    {
     "data": {
      "text/plain": [
       "true"
      ]
     },
     "execution_count": 48,
     "metadata": {},
     "output_type": "execute_result"
    }
   ],
   "source": [
    "Int64(10.13 * flt_to_int) == 10.13* flt_to_int"
   ]
  },
  {
   "cell_type": "code",
   "execution_count": 137,
   "metadata": {
    "collapsed": false
   },
   "outputs": [
    {
     "data": {
      "text/plain": [
       "flotante_a_entero2 (generic function with 1 method)"
      ]
     },
     "execution_count": 137,
     "metadata": {},
     "output_type": "execute_result"
    }
   ],
   "source": [
    " flotante_a_entero2(flotante::Float64) = Int64(flotante * flt_to_int / L)"
   ]
  },
  {
   "cell_type": "markdown",
   "metadata": {},
   "source": [
    "### Algo aquí no funciona"
   ]
  },
  {
   "cell_type": "code",
   "execution_count": 129,
   "metadata": {
    "collapsed": false,
    "scrolled": true
   },
   "outputs": [
    {
     "data": {
      "text/plain": [
       "true"
      ]
     },
     "execution_count": 129,
     "metadata": {},
     "output_type": "execute_result"
    }
   ],
   "source": [
    "ceil(Int64,5.5) === Int64(ceil(5.5))"
   ]
  },
  {
   "cell_type": "code",
   "execution_count": 130,
   "metadata": {
    "collapsed": false
   },
   "outputs": [
    {
     "data": {
      "text/plain": [
       "flotante_a_entero (generic function with 4 methods)"
      ]
     },
     "execution_count": 130,
     "metadata": {},
     "output_type": "execute_result"
    }
   ],
   "source": [
    "function flotante_a_entero(flotante:: Float64, lado_caja::Float64, cajitas::Int64 = 2^60)\n",
    "#    ceil(Int64,cajitas*flotante/lado_caja)\n",
    "    Int64(ceil(cajitas*flotante/lado_caja))\n",
    "end"
   ]
  },
  {
   "cell_type": "code",
   "execution_count": 131,
   "metadata": {
    "collapsed": false
   },
   "outputs": [
    {
     "data": {
      "text/plain": [
       "447547723285192704"
      ]
     },
     "execution_count": 131,
     "metadata": {},
     "output_type": "execute_result"
    }
   ],
   "source": [
    "flotante_a_entero(10.0*rand(), 10.0) #El flotante debería ser menor al lado de la caja."
   ]
  },
  {
   "cell_type": "code",
   "execution_count": 132,
   "metadata": {
    "collapsed": false
   },
   "outputs": [
    {
     "ename": "LoadError",
     "evalue": "LoadError: InexactError()\nwhile loading In[132], in expression starting on line 6",
     "output_type": "error",
     "traceback": [
      "LoadError: InexactError()\nwhile loading In[132], in expression starting on line 6",
      "",
      " in flotante_a_entero at In[130]:3"
     ]
    }
   ],
   "source": [
    "#Buscando el error\n",
    "ladin = 10.0\n",
    "cajitas = 2^60\n",
    "caso1 = 0.5e-17  #límite inferior\n",
    "caso2 = 8.0ladin #límite superior: Sube si se consideran menos cajas, i.e. 2^58\n",
    "# 8.0 == 2^3 -> 8*2^60 = 2^63 que ya no es fielmente representable ∴ marca error al intentar convertirlo.\n",
    "flotante_a_entero(caso2, ladin, cajitas)"
   ]
  },
  {
   "cell_type": "code",
   "execution_count": 163,
   "metadata": {
    "collapsed": false
   },
   "outputs": [
    {
     "data": {
      "text/plain": [
       "flotante_a_entero (generic function with 4 methods)"
      ]
     },
     "execution_count": 163,
     "metadata": {},
     "output_type": "execute_result"
    }
   ],
   "source": [
    "# Versión para arreglos\n",
    "function flotante_a_entero(vector_flotante::Vector{Float64}, lado_caja::Float64, cajitas::Int64 = 2^60)\n",
    "    \n",
    "    largo = length(vector_flotante)\n",
    "    vector_entero = Vector{Int64}(largo)\n",
    "    \n",
    "    for (i,flotante) in enumerate(vector_flotante)\n",
    "#         vector_entero[i] = Int64(cajitas*flotante/lado_caja)  #Por alguna razón esto falla si flotante/lado_caja <= 0.01\n",
    "        vector_entero[i] = flotante_a_entero(flotante,lado_caja,cajitas)\n",
    "    end\n",
    "    vector_entero\n",
    "end"
   ]
  },
  {
   "cell_type": "code",
   "execution_count": 164,
   "metadata": {
    "collapsed": false
   },
   "outputs": [
    {
     "data": {
      "text/plain": [
       "5-element Array{Int64,1}:\n",
       " 704418759394030208\n",
       " 629432898167448832\n",
       " 463666447069872448\n",
       " 386645376583933184\n",
       " 572455518170391424"
      ]
     },
     "execution_count": 164,
     "metadata": {},
     "output_type": "execute_result"
    }
   ],
   "source": [
    "bubu = randn(5).+5.0\n",
    "flotante_a_entero(bubu,10.0)"
   ]
  },
  {
   "cell_type": "markdown",
   "metadata": {},
   "source": [
    "#### Entero a flotante"
   ]
  },
  {
   "cell_type": "code",
   "execution_count": 165,
   "metadata": {
    "collapsed": false
   },
   "outputs": [
    {
     "data": {
      "text/plain": [
       "entero_a_flotante (generic function with 4 methods)"
      ]
     },
     "execution_count": 165,
     "metadata": {},
     "output_type": "execute_result"
    }
   ],
   "source": [
    "function entero_a_flotante(entero:: Int64,lado_caja::Float64, cajitas::Int64 = 2^60)\n",
    "    Float64(entero*lado_caja/cajitas) #Por alguna razón el poner Float64() cambia los resultados...\n",
    "end"
   ]
  },
  {
   "cell_type": "code",
   "execution_count": 166,
   "metadata": {
    "collapsed": false
   },
   "outputs": [
    {
     "data": {
      "text/plain": [
       "entero_a_flotante (generic function with 4 methods)"
      ]
     },
     "execution_count": 166,
     "metadata": {},
     "output_type": "execute_result"
    }
   ],
   "source": [
    "# Verión para arreglos\n",
    "function entero_a_flotante(vector_entero:: Vector{Int64},lado_caja::Float64, cajitas::Int64 = 2^60)\n",
    "    largo = length(vector_entero)\n",
    "    vector_flotante = Vector{Float64}(largo)\n",
    "    \n",
    "    for (i,entero) in enumerate(vector_entero)\n",
    "        #         vector_flotante[i] = Float64(entero*lado_caja/cajitas)  #Esto resulta en algo inesperado... :(\n",
    "        vector_flotante[i] = entero_a_flotante(entero,lado_caja,cajitas)\n",
    "    end\n",
    "    vector_flotante\n",
    "end"
   ]
  },
  {
   "cell_type": "code",
   "execution_count": 167,
   "metadata": {
    "collapsed": false
   },
   "outputs": [
    {
     "data": {
      "text/plain": [
       "5-element Array{Float64,1}:\n",
       " 6.37648e-9\n",
       " 2.30101e-9\n",
       " 7.25741e-9\n",
       " 2.33614e-9\n",
       " 3.88601e-9"
      ]
     },
     "execution_count": 167,
     "metadata": {},
     "output_type": "execute_result"
    }
   ],
   "source": [
    "bubu = rand(1000000000:10000000000,5)\n",
    "entero_a_flotante(bubu,1.0)"
   ]
  },
  {
   "cell_type": "markdown",
   "metadata": {},
   "source": [
    "### Distribución inicial"
   ]
  },
  {
   "cell_type": "markdown",
   "metadata": {},
   "source": [
    "Dada una distribución inicial se generan movimientos aleatorios con una distribución gaussiana para obtener la siguiente distribución, por lo que las velocidades también tienen una distribución gaussiana. La desviación estandar de esta está relacionada con la temperatura."
   ]
  },
  {
   "cell_type": "code",
   "execution_count": 168,
   "metadata": {
    "collapsed": false
   },
   "outputs": [],
   "source": [
    "using Distributions"
   ]
  },
  {
   "cell_type": "code",
   "execution_count": 169,
   "metadata": {
    "collapsed": false
   },
   "outputs": [
    {
     "data": {
      "text/plain": [
       "fluctuacion_gaussiana (generic function with 3 methods)"
      ]
     },
     "execution_count": 169,
     "metadata": {},
     "output_type": "execute_result"
    }
   ],
   "source": [
    "function fluctuacion_gaussiana(X_0, media = 0.0, desv_std = 0.1)\n",
    "    largo = length(X_0)\n",
    "    distribucion = Normal(media, desv_std)\n",
    "    fluctuaciones = rand(distribucion, largo)\n",
    "    X_0 + fluctuaciones\n",
    "end"
   ]
  },
  {
   "cell_type": "code",
   "execution_count": 170,
   "metadata": {
    "collapsed": false
   },
   "outputs": [],
   "source": [
    "fluctuacion_gaussiana(rand(12));"
   ]
  },
  {
   "cell_type": "markdown",
   "metadata": {},
   "source": [
    "### Division de la caja en zonas de lado $r_c$"
   ]
  },
  {
   "cell_type": "markdown",
   "metadata": {},
   "source": [
    "Vamos a implementar el teselador dentro de la función que calcula las fuerzas para tomar en cuenta la periodicidad de las fronteras."
   ]
  },
  {
   "cell_type": "markdown",
   "metadata": {},
   "source": [
    "#### Un comportamiento extraño..."
   ]
  },
  {
   "cell_type": "code",
   "execution_count": 171,
   "metadata": {
    "collapsed": false
   },
   "outputs": [
    {
     "data": {
      "text/plain": [
       "1125899906842624"
      ]
     },
     "execution_count": 171,
     "metadata": {},
     "output_type": "execute_result"
    }
   ],
   "source": [
    "cajma = 2^50"
   ]
  },
  {
   "cell_type": "code",
   "execution_count": 172,
   "metadata": {
    "collapsed": false
   },
   "outputs": [
    {
     "data": {
      "text/plain": [
       "0.6875"
      ]
     },
     "execution_count": 172,
     "metadata": {},
     "output_type": "execute_result"
    }
   ],
   "source": [
    "ceil(cajma/3) - cajma/3 #Parece que hacer ceil trae problemas... "
   ]
  },
  {
   "cell_type": "code",
   "execution_count": 173,
   "metadata": {
    "collapsed": false
   },
   "outputs": [
    {
     "data": {
      "text/plain": [
       "1"
      ]
     },
     "execution_count": 173,
     "metadata": {},
     "output_type": "execute_result"
    }
   ],
   "source": [
    "cajma % 3 # 2^50 no es divisible entre 3, hay que cuidar la jerarquía de operaciones "
   ]
  },
  {
   "cell_type": "code",
   "execution_count": 174,
   "metadata": {
    "collapsed": false
   },
   "outputs": [
    {
     "data": {
      "text/plain": [
       "1125899906842624"
      ]
     },
     "execution_count": 174,
     "metadata": {},
     "output_type": "execute_result"
    }
   ],
   "source": [
    "Int64(3*cajma/3)"
   ]
  },
  {
   "cell_type": "code",
   "execution_count": 175,
   "metadata": {
    "collapsed": false
   },
   "outputs": [
    {
     "data": {
      "text/plain": [
       "1125899906842626"
      ]
     },
     "execution_count": 175,
     "metadata": {},
     "output_type": "execute_result"
    }
   ],
   "source": [
    "3*Int64(ceil(cajma/3))"
   ]
  },
  {
   "cell_type": "code",
   "execution_count": 176,
   "metadata": {
    "collapsed": false
   },
   "outputs": [
    {
     "data": {
      "text/plain": [
       "2"
      ]
     },
     "execution_count": 176,
     "metadata": {},
     "output_type": "execute_result"
    }
   ],
   "source": [
    "3*Int64(ceil(cajma/3)) - cajma"
   ]
  },
  {
   "cell_type": "code",
   "execution_count": 177,
   "metadata": {
    "collapsed": false
   },
   "outputs": [
    {
     "data": {
      "text/plain": [
       "2.0625"
      ]
     },
     "execution_count": 177,
     "metadata": {},
     "output_type": "execute_result"
    }
   ],
   "source": [
    ".6875 * 3 #Parece que esto es lo que hace la diferencia en las conversiones"
   ]
  },
  {
   "cell_type": "code",
   "execution_count": 178,
   "metadata": {
    "collapsed": false
   },
   "outputs": [
    {
     "data": {
      "text/plain": [
       "teselador_mat (generic function with 2 methods)"
      ]
     },
     "execution_count": 178,
     "metadata": {},
     "output_type": "execute_result"
    }
   ],
   "source": [
    "function teselador_mat(coordenadas::Vector{Int64}, divisiones::Int64, cajitas::Int64 = 2^60)  #De entrada en enteros.\n",
    "      \n",
    "    #rc_entero = Int64(ceil(cajitas/divisiones)) #El radio crítico en unidades de cajitas (2^60 enteros) \n",
    "    rc_entero = cld(cajitas, divisiones)\n",
    "    rango = 1:divisiones\n",
    "    zonas = [Int64[] for i = rango, j = rango, k = rango]\n",
    "    \n",
    "    largo = length(coordenadas)\n",
    "    \n",
    "    for i in 3:3:largo\n",
    "        xn = Int64(ceil(coordenadas[i-2] / rc_entero))\n",
    "        yn = Int64(ceil(coordenadas[i-1] / rc_entero))\n",
    "        zn = Int64(ceil(coordenadas[i]   / rc_entero))\n",
    "        push!(zonas[xn,yn,zn],i)\n",
    "    end\n",
    "    zonas\n",
    "end"
   ]
  },
  {
   "cell_type": "code",
   "execution_count": 179,
   "metadata": {
    "collapsed": false
   },
   "outputs": [
    {
     "ename": "LoadError",
     "evalue": "LoadError: UndefVarError: coord not defined\nwhile loading In[179], in expression starting on line 1",
     "output_type": "error",
     "traceback": [
      "LoadError: UndefVarError: coord not defined\nwhile loading In[179], in expression starting on line 1",
      ""
     ]
    }
   ],
   "source": [
    "# ¡Funciona!\n",
    "coord = rand(1:10,30)\n",
    "div   = 2\n",
    "caj   = 10\n",
    "teselador_mat(coord,div,caj)  #Matrices"
   ]
  },
  {
   "cell_type": "markdown",
   "metadata": {},
   "source": [
    "#### Prueba de tiempo (matriz vs. diccionario)"
   ]
  },
  {
   "cell_type": "code",
   "execution_count": 421,
   "metadata": {
    "collapsed": false
   },
   "outputs": [],
   "source": [
    "collect(linspace(3,300000,100));"
   ]
  },
  {
   "cell_type": "code",
   "execution_count": 422,
   "metadata": {
    "collapsed": false
   },
   "outputs": [
    {
     "data": {
      "image/png": "[encoded data removed]",
      "text/plain": [
       "PyPlot.Figure(PyObject <matplotlib.figure.Figure object at 0x7f73ca28d1d0>)"
      ]
     },
     "metadata": {},
     "output_type": "display_data"
    },
    {
     "data": {
      "text/plain": [
       "PyObject <matplotlib.legend.Legend object at 0x7f73ca23d6d0>"
      ]
     },
     "execution_count": 422,
     "metadata": {},
     "output_type": "execute_result"
    }
   ],
   "source": [
    "div = 2\n",
    "caj = 10\n",
    "reg_dic = []\n",
    "reg_mat = []\n",
    "range = linspace(3,30000000,10)\n",
    "for M in range\n",
    "    coord = rand(1:10,Int64(M))\n",
    "    tiempo_dic = @elapsed(teselador_dic(coord,div,caj))\n",
    "    tiempo_mat = @elapsed(teselador_mat(coord,div,caj))\n",
    "    push!(reg_dic,tiempo_dic)\n",
    "    push!(reg_mat,tiempo_mat)\n",
    "end\n",
    "plot(range/3,reg_dic, label = \"diccionario\")\n",
    "plot(range/3,reg_mat, label = \"matriz\")\n",
    "title(\"Tiempos por paso respecto al número de partículas\")\n",
    "xlabel(\"Partículas\")\n",
    "ylabel(\"Tiempo\")\n",
    "legend()"
   ]
  },
  {
   "cell_type": "code",
   "execution_count": 423,
   "metadata": {
    "collapsed": false
   },
   "outputs": [
    {
     "data": {
      "image/png": "[encoded data removed]",
      "text/plain": [
       "PyPlot.Figure(PyObject <matplotlib.figure.Figure object at 0x7f73bbc02490>)"
      ]
     },
     "metadata": {},
     "output_type": "display_data"
    },
    {
     "data": {
      "text/plain": [
       "PyObject <matplotlib.text.Text object at 0x7f73ca1076d0>"
      ]
     },
     "execution_count": 423,
     "metadata": {},
     "output_type": "execute_result"
    }
   ],
   "source": [
    "plot(range/3, reg_dic./reg_mat)\n",
    "title(\"Razón entre tiempos: dic/mat\")\n",
    "xlabel(\"Partículas\")\n",
    "ylabel(\"Razón\")"
   ]
  },
  {
   "cell_type": "markdown",
   "metadata": {},
   "source": [
    "#### ¡La matriz es la ganadora!"
   ]
  },
  {
   "cell_type": "markdown",
   "metadata": {},
   "source": [
    "### Ahora la función que relacionara las zonas con sus vecinos más cercanos (en 3D son 7)."
   ]
  },
  {
   "cell_type": "code",
   "execution_count": 255,
   "metadata": {
    "collapsed": false
   },
   "outputs": [
    {
     "data": {
      "text/plain": [
       "vecinos_mod (generic function with 1 method)"
      ]
     },
     "execution_count": 255,
     "metadata": {},
     "output_type": "execute_result"
    }
   ],
   "source": [
    "### Aunque esto es más corto es conveniente usar muchos if porque calcular modulos constantemente puede tardar...\n",
    "function vecinos_mod{T<:Int64}(zonas::Array{Vector{T},3}, i::T, j::T, k::T)\n",
    "\n",
    "    imax, jmax, kmax = size(zonas)\n",
    "\n",
    "    i_plus = mod1(i+1, imax)\n",
    "    j_plus = mod1(j+1, jmax)\n",
    "    k_plus = mod1(k+1, kmax)\n",
    "    \n",
    "#     vecindad = zonas[i,j,k]  #Incluyendo la zona inicial.\n",
    "    vecindad = Int64[]  #Incluyendo sólo a los vecinos de la zona inicial.\n",
    "    \n",
    "    append!(vecindad, zonas[i_plus, j, k])\n",
    "    append!(vecindad, zonas[i, j_plus, k])\n",
    "    append!(vecindad, zonas[i_plus, j_plus, k])\n",
    "    append!(vecindad, zonas[i, j, k_plus])\n",
    "    append!(vecindad, zonas[i, j_plus, k_plus])\n",
    "    append!(vecindad, zonas[i_plus, j, k_plus])\n",
    "    append!(vecindad, zonas[i_plus, j_plus, k_plus])\n",
    "    vecindad\n",
    "end"
   ]
  },
  {
   "cell_type": "code",
   "execution_count": 256,
   "metadata": {
    "collapsed": false
   },
   "outputs": [
    {
     "data": {
      "text/plain": [
       "vecinos (generic function with 1 method)"
      ]
     },
     "execution_count": 256,
     "metadata": {},
     "output_type": "execute_result"
    }
   ],
   "source": [
    "function vecinos{T<:Int64}(zonas::Array{Vector{T},3}, i::T, j::T, k::T)\n",
    "    \n",
    "    imax, jmax, kmax = size(zonas)\n",
    "#         vecindad = zonas[i,j,k]  #Incluyendo la zona inicial.\n",
    "    vecindad = Int64[]  #Incluyendo sólo a los vecinos de la zona inicial.\n",
    "    \n",
    "    if i == imax\n",
    "        append!(vecindad, zonas[1,j,k])\n",
    "        \n",
    "        if j == jmax\n",
    "            append!(vecindad, zonas[i,1,k])\n",
    "            append!(vecindad, zonas[1,1,k])\n",
    "            \n",
    "            if k == kmax \n",
    "                append!(vecindad, zonas[i,j,1])\n",
    "                append!(vecindad, zonas[i,1,1])\n",
    "                append!(vecindad, zonas[1,j,1])\n",
    "                append!(vecindad, zonas[1,1,1])\n",
    "            else\n",
    "                append!(vecindad, zonas[i,j,k+1])\n",
    "                append!(vecindad, zonas[i,1,k+1])\n",
    "                append!(vecindad, zonas[1,j,k+1])\n",
    "                append!(vecindad, zonas[1,1,k+1])\n",
    "            end\n",
    "        else\n",
    "            append!(vecindad, zonas[i,j+1,k])\n",
    "            append!(vecindad, zonas[1,j+1,k])\n",
    "            \n",
    "            if k == kmax \n",
    "                append!(vecindad, zonas[i,j,1])\n",
    "                append!(vecindad, zonas[i,j+1,1])\n",
    "                append!(vecindad, zonas[1,j,1])\n",
    "                append!(vecindad, zonas[1,j+1,1])\n",
    "            else\n",
    "                append!(vecindad, zonas[i,j,k+1])\n",
    "                append!(vecindad, zonas[i,j+1,k+1])\n",
    "                append!(vecindad, zonas[1,j,k+1])\n",
    "                append!(vecindad, zonas[1,j+1,k+1])\n",
    "            end\n",
    "            \n",
    "        end\n",
    "    else\n",
    "        append!(vecindad, zonas[i+1,j,k])\n",
    "        \n",
    "        if j == jmax\n",
    "            append!(vecindad, zonas[i,1,k])\n",
    "            append!(vecindad, zonas[i+1,1,k])\n",
    "            \n",
    "            if k == kmax \n",
    "                append!(vecindad, zonas[i,j,1])\n",
    "                append!(vecindad, zonas[i,1,1])\n",
    "                append!(vecindad, zonas[i+1,j,1])\n",
    "                append!(vecindad, zonas[i+1,1,1])\n",
    "            else\n",
    "                append!(vecindad, zonas[i,j,k+1])\n",
    "                append!(vecindad, zonas[i,1,k+1])\n",
    "                append!(vecindad, zonas[i+1,j,k+1])\n",
    "                append!(vecindad, zonas[i+1,1,k+1])\n",
    "            end\n",
    "        else\n",
    "            append!(vecindad, zonas[i,j+1,k])\n",
    "            append!(vecindad, zonas[i+1,j+1,k])\n",
    "            \n",
    "            if k == kmax\n",
    "                append!(vecindad, zonas[i,j,1])\n",
    "                append!(vecindad, zonas[i,j+1,1])\n",
    "                append!(vecindad, zonas[i+1,j,1])\n",
    "                append!(vecindad, zonas[i+1,j+1,1])\n",
    "            else\n",
    "                append!(vecindad, zonas[i,j,k+1])\n",
    "                append!(vecindad, zonas[i,j+1,k+1])\n",
    "                append!(vecindad, zonas[i+1,j,k+1])\n",
    "                append!(vecindad, zonas[i+1,j+1,k+1])\n",
    "            end\n",
    "            \n",
    "        end\n",
    "    end\n",
    "    vecindad\n",
    "end"
   ]
  },
  {
   "cell_type": "code",
   "execution_count": 257,
   "metadata": {
    "collapsed": false
   },
   "outputs": [
    {
     "data": {
      "text/plain": [
       "3x3x3 Array{Array{Int64,1},3}:\n",
       "[:, :, 1] =\n",
       " Int64[]  [69,87,96]  [27]   \n",
       " [24]     [51,72]     [66,78]\n",
       " [57]     Int64[]     [15]   \n",
       "\n",
       "[:, :, 2] =\n",
       " Int64[]  Int64[]  [75]   \n",
       " [90,93]  [9,42]   Int64[]\n",
       " Int64[]  [99]     [63]   \n",
       "\n",
       "[:, :, 3] =\n",
       " [12,39]       [36]  [21]     \n",
       " [6,18,54,84]  [45]  [81]     \n",
       " [33]          [30]  [3,48,60]"
      ]
     },
     "execution_count": 257,
     "metadata": {},
     "output_type": "execute_result"
    }
   ],
   "source": [
    "#Parece ser que sí funciona\n",
    "\n",
    "coord = rand(1:15,100) \n",
    "div = 3\n",
    "caj = 15\n",
    "buse = teselador_mat(coord,div,caj)\n",
    "buse"
   ]
  },
  {
   "cell_type": "code",
   "execution_count": 258,
   "metadata": {
    "collapsed": false
   },
   "outputs": [
    {
     "data": {
      "text/plain": [
       "10-element Array{Int64,1}:\n",
       " 24\n",
       " 69\n",
       " 87\n",
       " 96\n",
       " 51\n",
       " 72\n",
       " 90\n",
       " 93\n",
       "  9\n",
       " 42"
      ]
     },
     "execution_count": 258,
     "metadata": {},
     "output_type": "execute_result"
    }
   ],
   "source": [
    "vecinos(buse, 1,1,1)"
   ]
  },
  {
   "cell_type": "code",
   "execution_count": 259,
   "metadata": {
    "collapsed": false
   },
   "outputs": [
    {
     "data": {
      "text/plain": [
       "10-element Array{Int64,1}:\n",
       " 24\n",
       " 69\n",
       " 87\n",
       " 96\n",
       " 51\n",
       " 72\n",
       " 90\n",
       " 93\n",
       "  9\n",
       " 42"
      ]
     },
     "execution_count": 259,
     "metadata": {},
     "output_type": "execute_result"
    }
   ],
   "source": [
    "vecinos_mod(buse, 1,1,1)"
   ]
  },
  {
   "cell_type": "markdown",
   "metadata": {},
   "source": [
    "#### Es mejor la versión larga, pero si no hay mucha diferencia podría usarse la versión con módulo, es más fácil de leer."
   ]
  },
  {
   "cell_type": "code",
   "execution_count": 232,
   "metadata": {
    "collapsed": false
   },
   "outputs": [
    {
     "name": "stdout",
     "output_type": "stream",
     "text": [
      "  2.298799 seconds (30.00 M allocations: 1.788 GB, 8.21% gc time)\n",
      "elapsed time (ns): 2298798949\n",
      "gc time (ns):      188629004\n",
      "bytes allocated:   1920000000\n",
      "pool allocs:       30000000\n",
      "GC pauses:         84\n"
     ]
    }
   ],
   "source": [
    "@timev for i in 1:10000000\n",
    "    vecinos(buse, 1,1,1) \n",
    "end"
   ]
  },
  {
   "cell_type": "code",
   "execution_count": 233,
   "metadata": {
    "collapsed": false
   },
   "outputs": [
    {
     "name": "stdout",
     "output_type": "stream",
     "text": [
      "  2.828947 seconds (30.00 M allocations: 1.788 GB, 6.61% gc time)\n",
      "elapsed time (ns): 2828946866\n",
      "gc time (ns):      187005615\n",
      "bytes allocated:   1920000000\n",
      "pool allocs:       30000000\n",
      "GC pauses:         84\n"
     ]
    }
   ],
   "source": [
    "@timev for i in 1:10000000\n",
    "    vecinos_mod(buse, 1,1,1)\n",
    "end"
   ]
  },
  {
   "cell_type": "markdown",
   "metadata": {},
   "source": [
    "### Cálculo de la fuerza intermolecular entre una zona y sus vecinos (incluyendola a ella misma)"
   ]
  },
  {
   "cell_type": "code",
   "execution_count": 424,
   "metadata": {
    "collapsed": false
   },
   "outputs": [
    {
     "data": {
      "text/plain": [
       "fuerza (generic function with 2 methods)"
      ]
     },
     "execution_count": 424,
     "metadata": {},
     "output_type": "execute_result"
    }
   ],
   "source": [
    "function fuerza(r::Float64, r_c::Float64 = 2.5)\n",
    "    48(r^(-13)-r^(-7) - ((r_c)^(-13) - r_c^(-7))/2)/r_c\n",
    "end"
   ]
  },
  {
   "cell_type": "code",
   "execution_count": 425,
   "metadata": {
    "collapsed": false
   },
   "outputs": [
    {
     "data": {
      "text/plain": [
       "fuerzas! (generic function with 1 method)"
      ]
     },
     "execution_count": 425,
     "metadata": {},
     "output_type": "execute_result"
    }
   ],
   "source": [
    "function fuerzas!{T<:Int64}(fuerzas::Vector{T}, coord_enteras::Vector{T}, i::T, j::T, cajitas::T, lado_caja::Float64, radio_critico::Float64, h::Float64)\n",
    "    #Primero operamos con enteros\n",
    "    x_i = coord_enteras[i-2]\n",
    "    y_i = coord_enteras[i-1]\n",
    "    z_i = coord_enteras[i]\n",
    "\n",
    "    x_j = coord_enteras[j-2]\n",
    "    y_j = coord_enteras[j-1]\n",
    "    z_j = coord_enteras[j]\n",
    "\n",
    "    #Pasamos a flotantes para el cálculo de la distancia y la fuerza\n",
    "    x_ij = entero_a_flotante(x_j - x_i, lado_caja, cajitas)\n",
    "    y_ij = entero_a_flotante(y_j - y_i, lado_caja, cajitas)\n",
    "    z_ij = entero_a_flotante(z_j - z_i, lado_caja, cajitas)\n",
    "\n",
    "    #Hay que considerar que la distancia se ve afectada por las fronteras periódicas.\n",
    "    #Esta solución sólo funciona si hay más que tres divisiones por lado.\n",
    "    \n",
    "    #El factor de 2 está bien porque estamos considerando cada coordenada por separado.\n",
    "    rad_max = 2radio_critico  \n",
    "    \n",
    "    #Si la distancia es negativa la periodicidad la vuelve positiva, y viceversa.\n",
    "    if x_ij > rad_max \n",
    "        x_ij -= lado_caja\n",
    "    elseif x_ij < -rad_max\n",
    "        x_ij += lado_caja\n",
    "    end\n",
    "    if y_ij > rad_max \n",
    "        y_ij -= lado_caja\n",
    "    elseif y_ij < -rad_max\n",
    "        y_ij += lado_caja\n",
    "    end\n",
    "    if z_ij > rad_max \n",
    "        z_ij -= lado_caja\n",
    "    elseif z_ij < -rad_max\n",
    "        z_ij += lado_caja\n",
    "    end\n",
    "    \n",
    "    r_ij = sqrt(x_ij^2 + y_ij^2 + z_ij^2)\n",
    "\n",
    "    f_ij = fuerza(r_ij, radio_critico)\n",
    "\n",
    "    fx = f_ij * x_ij\n",
    "    fy = f_ij * y_ij\n",
    "    fz = f_ij * z_ij\n",
    "    \n",
    "    h2 = h^2\n",
    "    \n",
    "    #Volvemos a enteros\n",
    "    fxh = flotante_a_entero(fx * h2, lado_caja, cajitas)\n",
    "    fyh = flotante_a_entero(fy * h2, lado_caja, cajitas)\n",
    "    fzh = flotante_a_entero(fz * h2, lado_caja, cajitas)\n",
    "\n",
    "    fuerzas[i-2] += fxh\n",
    "    fuerzas[i-1] += fyh\n",
    "    fuerzas[i] += fzh\n",
    "\n",
    "    fuerzas[j-2] -= fxh\n",
    "    fuerzas[j-1] -= fyh\n",
    "    fuerzas[j] -= fzh\n",
    "end"
   ]
  },
  {
   "cell_type": "code",
   "execution_count": 431,
   "metadata": {
    "collapsed": false
   },
   "outputs": [
    {
     "data": {
      "text/plain": [
       "vector_fuerzas (generic function with 4 methods)"
      ]
     },
     "execution_count": 431,
     "metadata": {},
     "output_type": "execute_result"
    }
   ],
   "source": [
    "# El algoritmo de Verlet no ocupa las velocidades de las partículas.\n",
    "# Suponemos que todas las masas son iguales\n",
    "\n",
    "function vector_fuerzas{T<:Float64}(coord_enteras::Vector{Int64}, lado_caja::T, cajitas::Int64 = 2^60 , radio_critico::T = 2.5, h::T = 0.005) \n",
    "    \n",
    "    # coordenadas es el arreglo con las posiciones X = (x1,y1,z1, x2,y2,z2, ...)\n",
    "    largo = length(coord_enteras)\n",
    "    suma_fuerzas = zeros(Int64, largo)\n",
    "    \n",
    "    ##### Creo que aquí está el error #####\n",
    "    divisiones_flotante = lado_caja/radio_critico #De preferencia que lado_caja sea múltiplo de radio_crítico\n",
    "    divisiones = Int64(ceil(divisiones_flotante))\n",
    "    zonas = teselador_mat(coord_enteras, divisiones, cajitas)\n",
    "    \n",
    "    for m = 1:divisiones, n = 1:divisiones, l = 1:divisiones\n",
    "        zona = zonas[m,n,l]\n",
    "        vecindario = vecinos(zonas,m,n,l)\n",
    "        \n",
    "        #Aquí aseguramos que las fuerzas dentro de zona sólo se calculen una ocasión.\n",
    "        #Si ambas partículas están dentro de zona hay que imponer i<j para lo anterior.\n",
    "    \n",
    "        for i in zona, j in zona\n",
    "            if i<j  #Para no calcular dos veces la misma fuerza.\n",
    "                fuerzas!(suma_fuerzas, coord_enteras, i, j, cajitas, lado_caja, radio_critico, h) \n",
    "            end\n",
    "        end\n",
    "        #Si en cambio una está en zona y la otra en vecinos i<j no es necesario.\n",
    "        for i in zona, j in vecindario\n",
    "            fuerzas!(suma_fuerzas, coord_enteras, i, j, cajitas, lado_caja, radio_critico, h) \n",
    "        end\n",
    "    end\n",
    "    suma_fuerzas\n",
    "end"
   ]
  },
  {
   "cell_type": "code",
   "execution_count": 432,
   "metadata": {
    "collapsed": false
   },
   "outputs": [],
   "source": [
    "inicial = randn(120).+5;\n",
    "segundo = fluctuacion_gaussiana(inicial, 0.1);"
   ]
  },
  {
   "cell_type": "code",
   "execution_count": 433,
   "metadata": {
    "collapsed": false
   },
   "outputs": [],
   "source": [
    "lado = 10.0\n",
    "X0 = flotante_a_entero(inicial, lado)\n",
    "X1 = flotante_a_entero(segundo, lado);"
   ]
  },
  {
   "cell_type": "code",
   "execution_count": 434,
   "metadata": {
    "collapsed": false
   },
   "outputs": [],
   "source": [
    "teselador_mat(X1, ceil(Int64,lado/2.5));"
   ]
  },
  {
   "cell_type": "code",
   "execution_count": 435,
   "metadata": {
    "collapsed": false
   },
   "outputs": [
    {
     "ename": "LoadError",
     "evalue": "LoadError: InexactError()\nwhile loading In[435], in expression starting on line 155",
     "output_type": "error",
     "traceback": [
      "LoadError: InexactError()\nwhile loading In[435], in expression starting on line 155",
      "",
      " in fuerzas! at In[425]:50",
      " in vector_fuerzas at In[431]:24",
      " in vector_fuerzas at In[431]:7"
     ]
    }
   ],
   "source": [
    "@time vector_fuerzas(X0 , lado, 2^60)"
   ]
  },
  {
   "cell_type": "markdown",
   "metadata": {},
   "source": [
    "#### Probablemente podríamos ahorrarnos todas las molestias si forzamos que el lado de la caja sea un múltiplo entero del radio crítico..."
   ]
  },
  {
   "cell_type": "markdown",
   "metadata": {},
   "source": [
    "### Algoritmo de Verlet con fronteras periodicas y trabajando en enteros."
   ]
  },
  {
   "cell_type": "code",
   "execution_count": 67,
   "metadata": {
    "collapsed": false
   },
   "outputs": [
    {
     "data": {
      "text/plain": [
       "paso_verlet (generic function with 4 methods)"
      ]
     },
     "execution_count": 67,
     "metadata": {},
     "output_type": "execute_result"
    }
   ],
   "source": [
    "function paso_verlet{T<:Int64}(coord_previas::Vector{T}, coord_actuales::Vector{T}, lado_caja::Float64 ,cajitas::T = 2^60, r_c::Float64 = 2.5, h::Float64 = 0.005)\n",
    "#     coord_futuras = coord_previas + 2coord_actuales - vector_fuerzas(coord_actuales, r_c, h)\n",
    "    \n",
    "    largo = length(coord_previas)\n",
    "    coord_futuras = zeros(Int64, largo)\n",
    "    for i in 1:largo\n",
    "        coord_futuras[i] = coord_previas[i] + 2*coord_actuales[i] - vector_fuerzas(coord_actuales, lado_caja, cajitas ,r_c, h)[i]\n",
    "        #Hay que revisar que no se salgan de la cajita, el rollo es periodico.\n",
    "        if coord_futuras[i] > cajitas\n",
    "            coord_futuras[i] -= cajitas\n",
    "        elseif coord_futuras[i] < 1\n",
    "            coord_futuras[i] += cajitas\n",
    "        end\n",
    "    end\n",
    "    coord_futuras\n",
    "end"
   ]
  },
  {
   "cell_type": "code",
   "execution_count": 192,
   "metadata": {
    "collapsed": false
   },
   "outputs": [
    {
     "data": {
      "text/plain": [
       "12-element Array{Int64,1}:\n",
       " 659498222950444430\n",
       " 643581270916083884\n",
       " 535593860659123211\n",
       " 795880999652587906\n",
       " 534902471731492619\n",
       " 473912614421990708\n",
       " 571354350380039092\n",
       " 720945408835606974\n",
       " 646500335295966388\n",
       " 522405222165897628\n",
       " 613995712275168075\n",
       " 592537077175337677"
      ]
     },
     "execution_count": 192,
     "metadata": {},
     "output_type": "execute_result"
    }
   ],
   "source": [
    "inicial = randn(12).+5\n",
    "segundo = fluctuacion_gaussiana(inicial, 0.01)\n",
    "lado = 25.0\n",
    "X0 = flotante_a_entero(inicial, lado)\n",
    "X1 = flotante_a_entero(segundo, lado)\n",
    "paso_verlet(X0, X1, lado, 2^60)   "
   ]
  },
  {
   "cell_type": "code",
   "execution_count": 218,
   "metadata": {
    "collapsed": false
   },
   "outputs": [
    {
     "data": {
      "text/plain": [
       "12-element Array{Int64,1}:\n",
       "  37705898359289010\n",
       " 242831770084852497\n",
       "  14472878651621960\n",
       " 278852701742282700\n",
       "  78821422922206485\n",
       " 263595543308867853\n",
       " 119040011178312542\n",
       "  59006046110698479\n",
       "  36523727608931016\n",
       " 244595004714284244\n",
       "  41598335776741243\n",
       " 212255031491606515"
      ]
     },
     "execution_count": 218,
     "metadata": {},
     "output_type": "execute_result"
    }
   ],
   "source": [
    "vec(ans)"
   ]
  },
  {
   "cell_type": "code",
   "execution_count": 219,
   "metadata": {
    "collapsed": false
   },
   "outputs": [
    {
     "data": {
      "text/plain": [
       "evolucion (generic function with 4 methods)"
      ]
     },
     "execution_count": 219,
     "metadata": {},
     "output_type": "execute_result"
    }
   ],
   "source": [
    "function evolucion{T<:Int64}(X0::Vector{T}, X1::Vector{T}, pasos::T, lado_caja::Float64 ,cajitas::Int64 = 2^60, r_c::Float64 = 2.5, h::Float64 = 0.005)\n",
    "\n",
    "#     registro = Vector{Int64}[X_0, X_1]\n",
    "#     sizehint!(registro, pasos+2)\n",
    "#     println(typeof(registro))\n",
    "\n",
    "    largo = length(X0)\n",
    "    registro = Matrix{Int64}(pasos+2,largo)\n",
    "    registro[1,:] = X0\n",
    "    registro[2,:] = X1\n",
    "\n",
    "    for t in 3:pasos+2\n",
    "        registro[t,:] = paso_verlet(collect(registro[t-2,:]),collect(registro[t-1,:]), lado_caja, cajitas, r_c, h)\n",
    " #         push!(registro, X2)\n",
    "#         X0, X1, X2 = X1, X2, X0\n",
    "    end\n",
    "    registro\n",
    "end"
   ]
  },
  {
   "cell_type": "code",
   "execution_count": 220,
   "metadata": {
    "collapsed": false
   },
   "outputs": [
    {
     "data": {
      "text/plain": [
       "12-element Array{Int64,1}:\n",
       " 183249727147472948\n",
       " 278273566415531970\n",
       " 130244993512040352\n",
       " 364070005298853416\n",
       " 280835314905675066\n",
       " 326856249885449194\n",
       "  85474811447366252\n",
       " 231993889350896158\n",
       " 182006583013795072\n",
       " 282131019960406120\n",
       " 192158759817461942\n",
       " 207526839453014790"
      ]
     },
     "execution_count": 220,
     "metadata": {},
     "output_type": "execute_result"
    }
   ],
   "source": [
    "paso_verlet(X1, paso_verlet(X0, X1, lado, 2^58),lado,2^58)"
   ]
  },
  {
   "cell_type": "code",
   "execution_count": 223,
   "metadata": {
    "collapsed": false
   },
   "outputs": [
    {
     "ename": "LoadError",
     "evalue": "LoadError: BoundsError: attempt to access 10x10x10 Array{Array{Int64,1},3}:\n[:, :, 1] =\n Int64[]  Int64[]  Int64[]  Int64[]  …  Int64[]  Int64[]  Int64[]  Int64[]\n Int64[]  Int64[]  Int64[]  Int64[]     Int64[]  Int64[]  Int64[]  Int64[]\n Int64[]  Int64[]  Int64[]  Int64[]     Int64[]  Int64[]  Int64[]  Int64[]\n Int64[]  Int64[]  Int64[]  Int64[]     Int64[]  Int64[]  Int64[]  Int64[]\n Int64[]  Int64[]  Int64[]  Int64[]     Int64[]  Int64[]  Int64[]  Int64[]\n Int64[]  Int64[]  Int64[]  Int64[]  …  Int64[]  Int64[]  Int64[]  Int64[]\n Int64[]  Int64[]  Int64[]  Int64[]     Int64[]  Int64[]  Int64[]  Int64[]\n Int64[]  Int64[]  Int64[]  Int64[]     Int64[]  Int64[]  Int64[]  Int64[]\n Int64[]  Int64[]  Int64[]  Int64[]     Int64[]  Int64[]  Int64[]  Int64[]\n Int64[]  Int64[]  Int64[]  Int64[]     Int64[]  Int64[]  Int64[]  Int64[]\n\n[:, :, 2] =\n Int64[]  Int64[]  Int64[]  Int64[]  …  Int64[]  Int64[]  Int64[]  Int64[]\n Int64[]  Int64[]  Int64[]  Int64[]     Int64[]  Int64[]  Int64[]  Int64[]\n Int64[]  Int64[]  Int64[]  Int64[]     Int64[]  Int64[]  Int64[]  Int64[]\n Int64[]  Int64[]  Int64[]  Int64[]     Int64[]  Int64[]  Int64[]  Int64[]\n Int64[]  Int64[]  Int64[]  Int64[]     Int64[]  Int64[]  Int64[]  Int64[]\n Int64[]  Int64[]  Int64[]  Int64[]  …  Int64[]  Int64[]  Int64[]  Int64[]\n Int64[]  Int64[]  Int64[]  Int64[]     Int64[]  Int64[]  Int64[]  Int64[]\n Int64[]  Int64[]  Int64[]  Int64[]     Int64[]  Int64[]  Int64[]  Int64[]\n Int64[]  Int64[]  Int64[]  Int64[]     Int64[]  Int64[]  Int64[]  Int64[]\n Int64[]  Int64[]  Int64[]  Int64[]     Int64[]  Int64[]  Int64[]  Int64[]\n\n[:, :, 3] =\n Int64[]  Int64[]  Int64[]  Int64[]  …  Int64[]  Int64[]  Int64[]  Int64[]\n Int64[]  Int64[]  Int64[]  Int64[]     Int64[]  Int64[]  Int64[]  Int64[]\n Int64[]  Int64[]  Int64[]  Int64[]     Int64[]  Int64[]  Int64[]  Int64[]\n Int64[]  Int64[]  Int64[]  Int64[]     Int64[]  Int64[]  Int64[]  Int64[]\n Int64[]  Int64[]  Int64[]  Int64[]     Int64[]  Int64[]  Int64[]  Int64[]\n Int64[]  Int64[]  Int64[]  Int64[]  …  Int64[]  Int64[]  Int64[]  Int64[]\n Int64[]  Int64[]  Int64[]  Int64[]     Int64[]  Int64[]  Int64[]  Int64[]\n Int64[]  Int64[]  Int64[]  Int64[]     Int64[]  Int64[]  Int64[]  Int64[]\n Int64[]  Int64[]  Int64[]  Int64[]     Int64[]  Int64[]  Int64[]  Int64[]\n Int64[]  Int64[]  Int64[]  Int64[]     Int64[]  Int64[]  Int64[]  Int64[]\n\n[:, :, 4] =\n Int64[]  Int64[]  Int64[]  Int64[]  …  Int64[]  Int64[]  Int64[]  Int64[]\n Int64[]  Int64[]  Int64[]  Int64[]     Int64[]  Int64[]  Int64[]  Int64[]\n Int64[]  Int64[]  Int64[]  Int64[]     Int64[]  Int64[]  Int64[]  Int64[]\n Int64[]  Int64[]  Int64[]  Int64[]     Int64[]  Int64[]  Int64[]  Int64[]\n Int64[]  Int64[]  Int64[]  Int64[]     Int64[]  Int64[]  Int64[]  Int64[]\n Int64[]  Int64[]  Int64[]  Int64[]  …  Int64[]  Int64[]  Int64[]  Int64[]\n Int64[]  Int64[]  Int64[]  Int64[]     Int64[]  Int64[]  Int64[]  Int64[]\n Int64[]  Int64[]  Int64[]  Int64[]     Int64[]  Int64[]  Int64[]  Int64[]\n Int64[]  Int64[]  Int64[]  Int64[]     Int64[]  Int64[]  Int64[]  Int64[]\n Int64[]  Int64[]  Int64[]  Int64[]     Int64[]  Int64[]  Int64[]  Int64[]\n\n[:, :, 5] =\n Int64[]  Int64[]  Int64[]  Int64[]  …  Int64[]  Int64[]  Int64[]  Int64[]\n Int64[]  Int64[]  Int64[]  Int64[]     Int64[]  Int64[]  Int64[]  Int64[]\n Int64[]  Int64[]  Int64[]  Int64[]     Int64[]  Int64[]  Int64[]  Int64[]\n Int64[]  Int64[]  Int64[]  Int64[]     Int64[]  Int64[]  Int64[]  Int64[]\n Int64[]  Int64[]  Int64[]  Int64[]     Int64[]  Int64[]  Int64[]  Int64[]\n Int64[]  Int64[]  Int64[]  Int64[]  …  Int64[]  Int64[]  Int64[]  Int64[]\n Int64[]  Int64[]  Int64[]  Int64[]     Int64[]  Int64[]  Int64[]  [3]    \n Int64[]  Int64[]  Int64[]  Int64[]     Int64[]  Int64[]  Int64[]  Int64[]\n Int64[]  Int64[]  Int64[]  Int64[]     Int64[]  Int64[]  Int64[]  Int64[]\n Int64[]  Int64[]  Int64[]  Int64[]     Int64[]  Int64[]  Int64[]  Int64[]\n\n[:, :, 6] =\n Int64[]  Int64[]  Int64[]  Int64[]  …  Int64[]  Int64[]  Int64[]  Int64[]\n Int64[]  Int64[]  Int64[]  Int64[]     Int64[]  Int64[]  Int64[]  Int64[]\n Int64[]  Int64[]  Int64[]  Int64[]     Int64[]  Int64[]  Int64[]  Int64[]\n Int64[]  Int64[]  Int64[]  Int64[]     Int64[]  Int64[]  Int64[]  Int64[]\n Int64[]  Int64[]  Int64[]  Int64[]     Int64[]  Int64[]  Int64[]  Int64[]\n Int64[]  Int64[]  Int64[]  Int64[]  …  Int64[]  Int64[]  Int64[]  Int64[]\n Int64[]  Int64[]  Int64[]  Int64[]     Int64[]  Int64[]  Int64[]  Int64[]\n Int64[]  Int64[]  Int64[]  Int64[]     Int64[]  Int64[]  Int64[]  Int64[]\n Int64[]  Int64[]  Int64[]  Int64[]     Int64[]  Int64[]  Int64[]  Int64[]\n Int64[]  Int64[]  Int64[]  Int64[]     Int64[]  Int64[]  Int64[]  Int64[]\n\n[:, :, 7] =\n Int64[]  Int64[]  Int64[]  Int64[]  …  Int64[]  Int64[]  Int64[]  Int64[]\n Int64[]  Int64[]  Int64[]  Int64[]     Int64[]  Int64[]  Int64[]  Int64[]\n Int64[]  Int64[]  Int64[]  Int64[]     Int64[]  Int64[]  Int64[]  Int64[]\n Int64[]  Int64[]  Int64[]  Int64[]     Int64[]  Int64[]  Int64[]  Int64[]\n Int64[]  Int64[]  Int64[]  Int64[]     Int64[]  Int64[]  Int64[]  Int64[]\n Int64[]  Int64[]  Int64[]  Int64[]  …  Int64[]  Int64[]  Int64[]  Int64[]\n Int64[]  Int64[]  Int64[]  Int64[]     Int64[]  Int64[]  Int64[]  Int64[]\n Int64[]  Int64[]  Int64[]  Int64[]     Int64[]  Int64[]  Int64[]  Int64[]\n Int64[]  Int64[]  Int64[]  Int64[]     Int64[]  Int64[]  Int64[]  Int64[]\n Int64[]  Int64[]  Int64[]  Int64[]     Int64[]  Int64[]  Int64[]  Int64[]\n\n[:, :, 8] =\n Int64[]  Int64[]  Int64[]  Int64[]  …  Int64[]  Int64[]  Int64[]  Int64[]\n Int64[]  Int64[]  Int64[]  Int64[]     Int64[]  Int64[]  Int64[]  Int64[]\n Int64[]  Int64[]  Int64[]  Int64[]     Int64[]  Int64[]  Int64[]  Int64[]\n Int64[]  Int64[]  Int64[]  Int64[]     Int64[]  Int64[]  Int64[]  Int64[]\n Int64[]  Int64[]  Int64[]  Int64[]     Int64[]  Int64[]  Int64[]  Int64[]\n Int64[]  Int64[]  Int64[]  Int64[]  …  Int64[]  Int64[]  Int64[]  Int64[]\n Int64[]  Int64[]  Int64[]  Int64[]     Int64[]  Int64[]  Int64[]  Int64[]\n Int64[]  Int64[]  Int64[]  Int64[]     Int64[]  Int64[]  Int64[]  Int64[]\n Int64[]  Int64[]  Int64[]  Int64[]     Int64[]  Int64[]  Int64[]  Int64[]\n Int64[]  Int64[]  Int64[]  Int64[]     Int64[]  Int64[]  Int64[]  Int64[]\n\n[:, :, 9] =\n Int64[]  Int64[]  Int64[]  Int64[]  …  Int64[]  Int64[]  Int64[]  Int64[]\n Int64[]  Int64[]  Int64[]  Int64[]     Int64[]  Int64[]  Int64[]  Int64[]\n Int64[]  Int64[]  Int64[]  Int64[]     Int64[]  Int64[]  Int64[]  Int64[]\n Int64[]  Int64[]  Int64[]  Int64[]     Int64[]  Int64[]  Int64[]  Int64[]\n Int64[]  Int64[]  Int64[]  Int64[]     Int64[]  Int64[]  Int64[]  Int64[]\n Int64[]  Int64[]  Int64[]  Int64[]  …  Int64[]  Int64[]  Int64[]  Int64[]\n Int64[]  Int64[]  Int64[]  Int64[]     Int64[]  Int64[]  Int64[]  Int64[]\n Int64[]  Int64[]  Int64[]  Int64[]     Int64[]  Int64[]  Int64[]  Int64[]\n Int64[]  Int64[]  Int64[]  Int64[]     Int64[]  Int64[]  Int64[]  Int64[]\n Int64[]  Int64[]  Int64[]  Int64[]     Int64[]  Int64[]  Int64[]  Int64[]\n\n[:, :, 10] =\n Int64[]  Int64[]  Int64[]  Int64[]  …  Int64[]  Int64[]  Int64[]  Int64[]\n Int64[]  Int64[]  Int64[]  Int64[]     Int64[]  Int64[]  Int64[]  Int64[]\n Int64[]  Int64[]  Int64[]  Int64[]     Int64[]  Int64[]  Int64[]  Int64[]\n Int64[]  Int64[]  Int64[]  Int64[]     Int64[]  Int64[]  Int64[]  Int64[]\n Int64[]  Int64[]  Int64[]  Int64[]     Int64[]  Int64[]  Int64[]  Int64[]\n Int64[]  Int64[]  Int64[]  Int64[]  …  Int64[]  Int64[]  Int64[]  Int64[]\n Int64[]  Int64[]  Int64[]  Int64[]     Int64[]  Int64[]  Int64[]  Int64[]\n Int64[]  Int64[]  Int64[]  Int64[]     Int64[]  Int64[]  Int64[]  Int64[]\n Int64[]  Int64[]  Int64[]  Int64[]     Int64[]  Int64[]  Int64[]  Int64[]\n Int64[]  Int64[]  Int64[]  Int64[]     Int64[]  Int64[]  Int64[]  Int64[]\n  at index [13,10,12]\nwhile loading In[223], in expression starting on line 155",
     "output_type": "error",
     "traceback": [
      "LoadError: BoundsError: attempt to access 10x10x10 Array{Array{Int64,1},3}:\n[:, :, 1] =\n Int64[]  Int64[]  Int64[]  Int64[]  …  Int64[]  Int64[]  Int64[]  Int64[]\n Int64[]  Int64[]  Int64[]  Int64[]     Int64[]  Int64[]  Int64[]  Int64[]\n Int64[]  Int64[]  Int64[]  Int64[]     Int64[]  Int64[]  Int64[]  Int64[]\n Int64[]  Int64[]  Int64[]  Int64[]     Int64[]  Int64[]  Int64[]  Int64[]\n Int64[]  Int64[]  Int64[]  Int64[]     Int64[]  Int64[]  Int64[]  Int64[]\n Int64[]  Int64[]  Int64[]  Int64[]  …  Int64[]  Int64[]  Int64[]  Int64[]\n Int64[]  Int64[]  Int64[]  Int64[]     Int64[]  Int64[]  Int64[]  Int64[]\n Int64[]  Int64[]  Int64[]  Int64[]     Int64[]  Int64[]  Int64[]  Int64[]\n Int64[]  Int64[]  Int64[]  Int64[]     Int64[]  Int64[]  Int64[]  Int64[]\n Int64[]  Int64[]  Int64[]  Int64[]     Int64[]  Int64[]  Int64[]  Int64[]\n\n[:, :, 2] =\n Int64[]  Int64[]  Int64[]  Int64[]  …  Int64[]  Int64[]  Int64[]  Int64[]\n Int64[]  Int64[]  Int64[]  Int64[]     Int64[]  Int64[]  Int64[]  Int64[]\n Int64[]  Int64[]  Int64[]  Int64[]     Int64[]  Int64[]  Int64[]  Int64[]\n Int64[]  Int64[]  Int64[]  Int64[]     Int64[]  Int64[]  Int64[]  Int64[]\n Int64[]  Int64[]  Int64[]  Int64[]     Int64[]  Int64[]  Int64[]  Int64[]\n Int64[]  Int64[]  Int64[]  Int64[]  …  Int64[]  Int64[]  Int64[]  Int64[]\n Int64[]  Int64[]  Int64[]  Int64[]     Int64[]  Int64[]  Int64[]  Int64[]\n Int64[]  Int64[]  Int64[]  Int64[]     Int64[]  Int64[]  Int64[]  Int64[]\n Int64[]  Int64[]  Int64[]  Int64[]     Int64[]  Int64[]  Int64[]  Int64[]\n Int64[]  Int64[]  Int64[]  Int64[]     Int64[]  Int64[]  Int64[]  Int64[]\n\n[:, :, 3] =\n Int64[]  Int64[]  Int64[]  Int64[]  …  Int64[]  Int64[]  Int64[]  Int64[]\n Int64[]  Int64[]  Int64[]  Int64[]     Int64[]  Int64[]  Int64[]  Int64[]\n Int64[]  Int64[]  Int64[]  Int64[]     Int64[]  Int64[]  Int64[]  Int64[]\n Int64[]  Int64[]  Int64[]  Int64[]     Int64[]  Int64[]  Int64[]  Int64[]\n Int64[]  Int64[]  Int64[]  Int64[]     Int64[]  Int64[]  Int64[]  Int64[]\n Int64[]  Int64[]  Int64[]  Int64[]  …  Int64[]  Int64[]  Int64[]  Int64[]\n Int64[]  Int64[]  Int64[]  Int64[]     Int64[]  Int64[]  Int64[]  Int64[]\n Int64[]  Int64[]  Int64[]  Int64[]     Int64[]  Int64[]  Int64[]  Int64[]\n Int64[]  Int64[]  Int64[]  Int64[]     Int64[]  Int64[]  Int64[]  Int64[]\n Int64[]  Int64[]  Int64[]  Int64[]     Int64[]  Int64[]  Int64[]  Int64[]\n\n[:, :, 4] =\n Int64[]  Int64[]  Int64[]  Int64[]  …  Int64[]  Int64[]  Int64[]  Int64[]\n Int64[]  Int64[]  Int64[]  Int64[]     Int64[]  Int64[]  Int64[]  Int64[]\n Int64[]  Int64[]  Int64[]  Int64[]     Int64[]  Int64[]  Int64[]  Int64[]\n Int64[]  Int64[]  Int64[]  Int64[]     Int64[]  Int64[]  Int64[]  Int64[]\n Int64[]  Int64[]  Int64[]  Int64[]     Int64[]  Int64[]  Int64[]  Int64[]\n Int64[]  Int64[]  Int64[]  Int64[]  …  Int64[]  Int64[]  Int64[]  Int64[]\n Int64[]  Int64[]  Int64[]  Int64[]     Int64[]  Int64[]  Int64[]  Int64[]\n Int64[]  Int64[]  Int64[]  Int64[]     Int64[]  Int64[]  Int64[]  Int64[]\n Int64[]  Int64[]  Int64[]  Int64[]     Int64[]  Int64[]  Int64[]  Int64[]\n Int64[]  Int64[]  Int64[]  Int64[]     Int64[]  Int64[]  Int64[]  Int64[]\n\n[:, :, 5] =\n Int64[]  Int64[]  Int64[]  Int64[]  …  Int64[]  Int64[]  Int64[]  Int64[]\n Int64[]  Int64[]  Int64[]  Int64[]     Int64[]  Int64[]  Int64[]  Int64[]\n Int64[]  Int64[]  Int64[]  Int64[]     Int64[]  Int64[]  Int64[]  Int64[]\n Int64[]  Int64[]  Int64[]  Int64[]     Int64[]  Int64[]  Int64[]  Int64[]\n Int64[]  Int64[]  Int64[]  Int64[]     Int64[]  Int64[]  Int64[]  Int64[]\n Int64[]  Int64[]  Int64[]  Int64[]  …  Int64[]  Int64[]  Int64[]  Int64[]\n Int64[]  Int64[]  Int64[]  Int64[]     Int64[]  Int64[]  Int64[]  [3]    \n Int64[]  Int64[]  Int64[]  Int64[]     Int64[]  Int64[]  Int64[]  Int64[]\n Int64[]  Int64[]  Int64[]  Int64[]     Int64[]  Int64[]  Int64[]  Int64[]\n Int64[]  Int64[]  Int64[]  Int64[]     Int64[]  Int64[]  Int64[]  Int64[]\n\n[:, :, 6] =\n Int64[]  Int64[]  Int64[]  Int64[]  …  Int64[]  Int64[]  Int64[]  Int64[]\n Int64[]  Int64[]  Int64[]  Int64[]     Int64[]  Int64[]  Int64[]  Int64[]\n Int64[]  Int64[]  Int64[]  Int64[]     Int64[]  Int64[]  Int64[]  Int64[]\n Int64[]  Int64[]  Int64[]  Int64[]     Int64[]  Int64[]  Int64[]  Int64[]\n Int64[]  Int64[]  Int64[]  Int64[]     Int64[]  Int64[]  Int64[]  Int64[]\n Int64[]  Int64[]  Int64[]  Int64[]  …  Int64[]  Int64[]  Int64[]  Int64[]\n Int64[]  Int64[]  Int64[]  Int64[]     Int64[]  Int64[]  Int64[]  Int64[]\n Int64[]  Int64[]  Int64[]  Int64[]     Int64[]  Int64[]  Int64[]  Int64[]\n Int64[]  Int64[]  Int64[]  Int64[]     Int64[]  Int64[]  Int64[]  Int64[]\n Int64[]  Int64[]  Int64[]  Int64[]     Int64[]  Int64[]  Int64[]  Int64[]\n\n[:, :, 7] =\n Int64[]  Int64[]  Int64[]  Int64[]  …  Int64[]  Int64[]  Int64[]  Int64[]\n Int64[]  Int64[]  Int64[]  Int64[]     Int64[]  Int64[]  Int64[]  Int64[]\n Int64[]  Int64[]  Int64[]  Int64[]     Int64[]  Int64[]  Int64[]  Int64[]\n Int64[]  Int64[]  Int64[]  Int64[]     Int64[]  Int64[]  Int64[]  Int64[]\n Int64[]  Int64[]  Int64[]  Int64[]     Int64[]  Int64[]  Int64[]  Int64[]\n Int64[]  Int64[]  Int64[]  Int64[]  …  Int64[]  Int64[]  Int64[]  Int64[]\n Int64[]  Int64[]  Int64[]  Int64[]     Int64[]  Int64[]  Int64[]  Int64[]\n Int64[]  Int64[]  Int64[]  Int64[]     Int64[]  Int64[]  Int64[]  Int64[]\n Int64[]  Int64[]  Int64[]  Int64[]     Int64[]  Int64[]  Int64[]  Int64[]\n Int64[]  Int64[]  Int64[]  Int64[]     Int64[]  Int64[]  Int64[]  Int64[]\n\n[:, :, 8] =\n Int64[]  Int64[]  Int64[]  Int64[]  …  Int64[]  Int64[]  Int64[]  Int64[]\n Int64[]  Int64[]  Int64[]  Int64[]     Int64[]  Int64[]  Int64[]  Int64[]\n Int64[]  Int64[]  Int64[]  Int64[]     Int64[]  Int64[]  Int64[]  Int64[]\n Int64[]  Int64[]  Int64[]  Int64[]     Int64[]  Int64[]  Int64[]  Int64[]\n Int64[]  Int64[]  Int64[]  Int64[]     Int64[]  Int64[]  Int64[]  Int64[]\n Int64[]  Int64[]  Int64[]  Int64[]  …  Int64[]  Int64[]  Int64[]  Int64[]\n Int64[]  Int64[]  Int64[]  Int64[]     Int64[]  Int64[]  Int64[]  Int64[]\n Int64[]  Int64[]  Int64[]  Int64[]     Int64[]  Int64[]  Int64[]  Int64[]\n Int64[]  Int64[]  Int64[]  Int64[]     Int64[]  Int64[]  Int64[]  Int64[]\n Int64[]  Int64[]  Int64[]  Int64[]     Int64[]  Int64[]  Int64[]  Int64[]\n\n[:, :, 9] =\n Int64[]  Int64[]  Int64[]  Int64[]  …  Int64[]  Int64[]  Int64[]  Int64[]\n Int64[]  Int64[]  Int64[]  Int64[]     Int64[]  Int64[]  Int64[]  Int64[]\n Int64[]  Int64[]  Int64[]  Int64[]     Int64[]  Int64[]  Int64[]  Int64[]\n Int64[]  Int64[]  Int64[]  Int64[]     Int64[]  Int64[]  Int64[]  Int64[]\n Int64[]  Int64[]  Int64[]  Int64[]     Int64[]  Int64[]  Int64[]  Int64[]\n Int64[]  Int64[]  Int64[]  Int64[]  …  Int64[]  Int64[]  Int64[]  Int64[]\n Int64[]  Int64[]  Int64[]  Int64[]     Int64[]  Int64[]  Int64[]  Int64[]\n Int64[]  Int64[]  Int64[]  Int64[]     Int64[]  Int64[]  Int64[]  Int64[]\n Int64[]  Int64[]  Int64[]  Int64[]     Int64[]  Int64[]  Int64[]  Int64[]\n Int64[]  Int64[]  Int64[]  Int64[]     Int64[]  Int64[]  Int64[]  Int64[]\n\n[:, :, 10] =\n Int64[]  Int64[]  Int64[]  Int64[]  …  Int64[]  Int64[]  Int64[]  Int64[]\n Int64[]  Int64[]  Int64[]  Int64[]     Int64[]  Int64[]  Int64[]  Int64[]\n Int64[]  Int64[]  Int64[]  Int64[]     Int64[]  Int64[]  Int64[]  Int64[]\n Int64[]  Int64[]  Int64[]  Int64[]     Int64[]  Int64[]  Int64[]  Int64[]\n Int64[]  Int64[]  Int64[]  Int64[]     Int64[]  Int64[]  Int64[]  Int64[]\n Int64[]  Int64[]  Int64[]  Int64[]  …  Int64[]  Int64[]  Int64[]  Int64[]\n Int64[]  Int64[]  Int64[]  Int64[]     Int64[]  Int64[]  Int64[]  Int64[]\n Int64[]  Int64[]  Int64[]  Int64[]     Int64[]  Int64[]  Int64[]  Int64[]\n Int64[]  Int64[]  Int64[]  Int64[]     Int64[]  Int64[]  Int64[]  Int64[]\n Int64[]  Int64[]  Int64[]  Int64[]     Int64[]  Int64[]  Int64[]  Int64[]\n  at index [13,10,12]\nwhile loading In[223], in expression starting on line 155",
      "",
      " in teselador_mat at In[154]:16",
      " in vector_fuerzas at In[169]:13",
      " in paso_verlet at In[216]:6",
      " in evolucion at In[219]:13",
      " in evolucion at In[219]:7"
     ]
    }
   ],
   "source": [
    "pasitos = 3\n",
    "@time buba = evolucion(X0, X1, pasitos, lado, 2^58)  #por alguna razón no permite más de 2 pasos ?¡?¡"
   ]
  },
  {
   "cell_type": "markdown",
   "metadata": {},
   "source": [
    "### Simulación\n",
    "\n",
    "Vamos a generar una configuración inicial ordenada, la segunda configuración será la dada por una variación gaussiana respecto a la primera y de ahí en adelante se utilizará el algoritmo de Verlet."
   ]
  },
  {
   "cell_type": "code",
   "execution_count": null,
   "metadata": {
    "collapsed": true
   },
   "outputs": [],
   "source": []
  }
 ],
 "metadata": {
  "kernelspec": {
   "display_name": "Julia 0.4.4-pre",
   "language": "julia",
   "name": "julia-0.4"
  },
  "language_info": {
   "file_extension": ".jl",
   "mimetype": "application/julia",
   "name": "julia",
   "version": "0.4.4"
  }
 },
 "nbformat": 4,
 "nbformat_minor": 0
}
