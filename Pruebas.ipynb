{
 "cells": [
  {
   "cell_type": "markdown",
   "metadata": {},
   "source": [
    "# Pruebas"
   ]
  },
  {
   "cell_type": "markdown",
   "metadata": {},
   "source": [
    "+ En las definiciones de las funciones en LennardGas ya no se suponen valores predeterminados para los parámetros, siempre hay que darlos explicitamente para realizar pruebas."
   ]
  },
  {
   "cell_type": "code",
   "execution_count": 8,
   "metadata": {
    "collapsed": true
   },
   "outputs": [],
   "source": [
    "push!(LOAD_PATH, pwd())\n",
    "using LennardGas: flotante_a_entero, entero_a_flotante, fluctuacion_gaussiana, vector_fuerzas, paso_verlet, evolucion"
   ]
  },
  {
   "cell_type": "code",
   "execution_count": 3,
   "metadata": {
    "collapsed": false
   },
   "outputs": [
    {
     "data": {
      "text/plain": [
       "0.005"
      ]
     },
     "execution_count": 3,
     "metadata": {},
     "output_type": "execute_result"
    }
   ],
   "source": [
    "#Parámetros\n",
    "r_c = 2.5\n",
    "L   = r_c * 10\n",
    "cajitas = 2^60\n",
    "h = 0.005"
   ]
  },
  {
   "cell_type": "code",
   "execution_count": 5,
   "metadata": {
    "collapsed": false
   },
   "outputs": [],
   "source": [
    "#Condición inicial (en Float64)\n",
    "inicial = randn(1200) .+ 10.0\n",
    "segundo = fluctuacion_gaussiana(inicial, 0.1);"
   ]
  },
  {
   "cell_type": "code",
   "execution_count": 7,
   "metadata": {
    "collapsed": false
   },
   "outputs": [],
   "source": [
    "#Condición inicial (en Int64)\n",
    "X0 = flotante_a_entero(inicial, L, cajitas)\n",
    "X1 = flotante_a_entero(segundo, L, cajitas);"
   ]
  },
  {
   "cell_type": "code",
   "execution_count": 12,
   "metadata": {
    "collapsed": false
   },
   "outputs": [
    {
     "name": "stdout",
     "output_type": "stream",
     "text": [
      "  0.044106 seconds (2.14 k allocations: 205.672 KB)\n"
     ]
    }
   ],
   "source": [
    "@time vector_fuerzas(X0 , L, cajitas, r_c, h);"
   ]
  },
  {
   "cell_type": "code",
   "execution_count": 14,
   "metadata": {
    "collapsed": false
   },
   "outputs": [
    {
     "name": "stdout",
     "output_type": "stream",
     "text": [
      "  0.046773 seconds (2.15 k allocations: 219.188 KB)\n"
     ]
    }
   ],
   "source": [
    "@time X2 = paso_verlet(X0, X1, L, cajitas, r_c, h);"
   ]
  },
  {
   "cell_type": "code",
   "execution_count": 16,
   "metadata": {
    "collapsed": false
   },
   "outputs": [
    {
     "data": {
      "text/plain": [
       "false"
      ]
     },
     "execution_count": 16,
     "metadata": {},
     "output_type": "execute_result"
    }
   ],
   "source": [
    "X_0 = paso_verlet(X2, X1, L, cajitas, r_c, h);\n",
    "X0 == X_0"
   ]
  },
  {
   "cell_type": "markdown",
   "metadata": {},
   "source": [
    "#### MUY poco reversible por ahora..."
   ]
  },
  {
   "cell_type": "code",
   "execution_count": 19,
   "metadata": {
    "collapsed": false
   },
   "outputs": [
    {
     "name": "stdout",
     "output_type": "stream",
     "text": [
      "  "
     ]
    },
    {
     "data": {
      "text/plain": [
       "1002x1200 Array{Int64,2}:\n",
       "  419992543260070656   528878706644030848  …   530226508924207744\n",
       "  422924369281512192   542580981707065280      529599434896077760\n",
       "  105438218899989371   467835267733275386       13706303943223823\n",
       "  633796689536837406   325326467081005895      557011931080453818\n",
       "  219976877440153754  1118633657697007608     1127730271346327092\n",
       " 1073750539997885619   256750735450535277  …   506629436749696762\n",
       "   61634887867920505   479213536332457179      988067291568013476\n",
       "   44098891702928748    62256291340502321      176921033171623035\n",
       "  149832382874889671   603723322841692171      188987909547420756\n",
       "  343763610305489384   116781338534432909      554896371745165695\n",
       "  837359679645399058   837285777126417126  …   145859276690930405\n",
       "  865561665595357417   638431090448714746      846615947351764516\n",
       "  262640251694924056   961226161037286911      686168552876981431\n",
       "                   ⋮                       ⋱                     \n",
       "  701912436571804278   651829726413138027  …   116964869875266983\n",
       "  480103133422709775   294947055177836135      437033641682424907\n",
       "  509196938629486935    88802315854494182      991031863210638648\n",
       "  345574490098700645   472554234298011333      113254589559345774\n",
       "   47424507331527425  1033910600566066994       64619689348871551\n",
       "  440423385847659275   234532592356495462  …   242493999750361224\n",
       "  928271327060617115   350055555145125431      549606494557118996\n",
       " 1144044515950163320   934643735399793128      188456540943002763\n",
       "  910517376781304688  1066421384335711242      926520130192391859\n",
       "  659234015012642618   761647178393754889      888575119533786801\n",
       " 1076064304737232257   283873935465246323  …   397827558172111829\n",
       "  505519164180729790   176473226553822245      531309042447215349"
      ]
     },
     "execution_count": 19,
     "metadata": {},
     "output_type": "execute_result"
    },
    {
     "name": "stdout",
     "output_type": "stream",
     "text": [
      "0.796710 seconds (3.44 M allocations: 264.471 MB, 2.79% gc time)\n"
     ]
    }
   ],
   "source": [
    "pasos = 1000\n",
    "@time evolucion(X0, X1, pasos, L, cajitas, r_c, h)"
   ]
  }
 ],
 "metadata": {
  "kernelspec": {
   "display_name": "Julia 0.4.2",
   "language": "julia",
   "name": "julia-0.4"
  },
  "language_info": {
   "file_extension": ".jl",
   "mimetype": "application/julia",
   "name": "julia",
   "version": "0.4.2"
  }
 },
 "nbformat": 4,
 "nbformat_minor": 0
}
