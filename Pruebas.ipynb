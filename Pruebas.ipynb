{
 "cells": [
  {
   "cell_type": "markdown",
   "metadata": {},
   "source": [
    "# Pruebas"
   ]
  },
  {
   "cell_type": "markdown",
   "metadata": {},
   "source": [
    "+ En las definiciones de las funciones en LennardGas ya no se suponen valores predeterminados para los parámetros, siempre hay que darlos explicitamente para realizar pruebas."
   ]
  },
  {
   "cell_type": "code",
   "execution_count": 1,
   "metadata": {
    "collapsed": true
   },
   "outputs": [],
   "source": [
    "using PyPlot"
   ]
  },
  {
   "cell_type": "code",
   "execution_count": 2,
   "metadata": {
    "collapsed": false
   },
   "outputs": [],
   "source": [
    "push!(LOAD_PATH, pwd())\n",
    "using LennardGas\n",
    "using Colors"
   ]
  },
  {
   "cell_type": "code",
   "execution_count": 3,
   "metadata": {
    "collapsed": false
   },
   "outputs": [
    {
     "data": {
      "text/plain": [
       "10"
      ]
     },
     "execution_count": 3,
     "metadata": {},
     "output_type": "execute_result"
    }
   ],
   "source": [
    "#Parámetros\n",
    "r_c = 2.5\n",
    "L   = r_c * 10\n",
    "cajitas = 2^60\n",
    "h = 0.005\n",
    "\n",
    "particulas = 10"
   ]
  },
  {
   "cell_type": "code",
   "execution_count": 4,
   "metadata": {
    "collapsed": false
   },
   "outputs": [],
   "source": [
    "#Condición inicial (en Float64)\n",
    "inicial = randn(3*particulas) .+ 10.0\n",
    "segundo = fluctuacion_gaussiana(inicial, 0.1);"
   ]
  },
  {
   "cell_type": "code",
   "execution_count": 5,
   "metadata": {
    "collapsed": false
   },
   "outputs": [],
   "source": [
    "#Condición inicial (en Int64)\n",
    "X0 = flotante_a_entero(inicial, L, cajitas)\n",
    "X1 = flotante_a_entero(segundo, L, cajitas);"
   ]
  },
  {
   "cell_type": "code",
   "execution_count": 8,
   "metadata": {
    "collapsed": false
   },
   "outputs": [
    {
     "name": "stdout",
     "output_type": "stream",
     "text": [
      "  0.000438 seconds (2.24 k allocations: 138.313 KB)\n"
     ]
    }
   ],
   "source": [
    "@time vector_fuerzas(X0 , L, cajitas, r_c, h);"
   ]
  },
  {
   "cell_type": "code",
   "execution_count": 9,
   "metadata": {
    "collapsed": false
   },
   "outputs": [
    {
     "name": "stdout",
     "output_type": "stream",
     "text": [
      "  0.000420 seconds (2.20 k allocations: 137.750 KB)\n"
     ]
    }
   ],
   "source": [
    "@time X2 = paso_verlet(X0, X1, L, cajitas, r_c, h);"
   ]
  },
  {
   "cell_type": "code",
   "execution_count": 10,
   "metadata": {
    "collapsed": false
   },
   "outputs": [
    {
     "data": {
      "text/plain": [
       "true"
      ]
     },
     "execution_count": 10,
     "metadata": {},
     "output_type": "execute_result"
    }
   ],
   "source": [
    "X_0 = paso_verlet(X2, X1, L, cajitas, r_c, h);\n",
    "X0 == X_0"
   ]
  },
  {
   "cell_type": "markdown",
   "metadata": {},
   "source": [
    "#### MUY poco reversible por ahora..."
   ]
  },
  {
   "cell_type": "code",
   "execution_count": 11,
   "metadata": {
    "collapsed": false
   },
   "outputs": [
    {
     "name": "stdout",
     "output_type": "stream",
     "text": [
      "  "
     ]
    },
    {
     "data": {
      "text/plain": [
       "12x30 Array{Int64,2}:\n",
       " 511057286788400832  450935928013989120  …  472749159068292928\n",
       " 506477469792136000  457423013868228224     483876053585224192\n",
       " 501832479641302494  463820411565261010     495004558692050504\n",
       " 497212589209928426  470105214207935555     506133750123672869\n",
       " 492588625351234895  476392167460521751     517263221463781869\n",
       " 487965077636863215  482679172584819459  …  528392798383482133\n",
       " 483342099992064911  488966171698159009     539522375303182397\n",
       " 478719402896523177  495253210959250799     550651952222882661\n",
       " 474096743824993285  501540317484385810     561781529142582925\n",
       " 469473978842657623  507827497029240477     572911106062283189\n",
       " 464851068875864235  514114737170817571  …  584040709079284192\n",
       " 460228013990124986  520402024505039603     595170312096285195"
      ]
     },
     "execution_count": 11,
     "metadata": {},
     "output_type": "execute_result"
    },
    {
     "name": "stdout",
     "output_type": "stream",
     "text": [
      "0.474255 seconds (107.36 k allocations: 5.539 MB)\n"
     ]
    }
   ],
   "source": [
    "pasos = 10\n",
    "@time registro = evolucion(X0, X1, pasos, L, cajitas, r_c, h)"
   ]
  },
  {
   "cell_type": "code",
   "execution_count": 12,
   "metadata": {
    "collapsed": false
   },
   "outputs": [
    {
     "data": {
      "text/plain": [
       "prueba_reversible (generic function with 1 method)"
      ]
     },
     "execution_count": 12,
     "metadata": {},
     "output_type": "execute_result"
    }
   ],
   "source": [
    "function prueba_reversible(X0, X1, pasos, L, cajitas, r_c, h) \n",
    "    #Se puede hacer sin guardar todos los intermediarios...\n",
    "    \n",
    "    registro_ida = evolucion(X0, X1, pasos, L, cajitas, r_c, h)\n",
    "    X_ultima = collect(registro_ida[end,:])\n",
    "    X_penultima = collect(registro_ida[end-1,:])\n",
    "\n",
    "    registro_vuelta = evolucion(X_ultima, X_penultima, pasos, L, cajitas, r_c, h)\n",
    "    X_original = collect(registro_vuelta[end,:])\n",
    "\n",
    "    X0 == X_original , registro_ida, registro_vuelta\n",
    "end"
   ]
  },
  {
   "cell_type": "code",
   "execution_count": 23,
   "metadata": {
    "collapsed": false
   },
   "outputs": [
    {
     "data": {
      "text/plain": [
       "true"
      ]
     },
     "execution_count": 23,
     "metadata": {},
     "output_type": "execute_result"
    }
   ],
   "source": [
    "pasos = 100000\n",
    "\n",
    "prueba1 = prueba_reversible(X0, X1, pasos, L, cajitas, r_c, h)\n",
    "prueba1[1]"
   ]
  },
  {
   "cell_type": "code",
   "execution_count": 14,
   "metadata": {
    "collapsed": false
   },
   "outputs": [
    {
     "data": {
      "text/plain": [
       "3x30 Array{Int64,2}:\n",
       " 511057286788400832  450935928013989120  …  472749159068292928\n",
       " 506477469792136000  457423013868228224     483876053585224192\n",
       " 501832479641302494  463820411565261010     495004558692050504"
      ]
     },
     "execution_count": 14,
     "metadata": {},
     "output_type": "execute_result"
    }
   ],
   "source": [
    "prueba1[2]"
   ]
  },
  {
   "cell_type": "code",
   "execution_count": 15,
   "metadata": {
    "collapsed": false
   },
   "outputs": [
    {
     "data": {
      "text/plain": [
       "3x30 Array{Int64,2}:\n",
       " 501832479641302494  463820411565261010  …  495004558692050504\n",
       " 506477469792136000  457423013868228224     483876053585224192\n",
       " 511057286788400832  450935928013989120     472749159068292928"
      ]
     },
     "execution_count": 15,
     "metadata": {},
     "output_type": "execute_result"
    }
   ],
   "source": [
    "prueba1[3]"
   ]
  },
  {
   "cell_type": "markdown",
   "metadata": {},
   "source": [
    "**Algo anda muy mal**"
   ]
  },
  {
   "cell_type": "code",
   "execution_count": 13,
   "metadata": {
    "collapsed": false
   },
   "outputs": [
    {
     "data": {
      "text/plain": [
       "false"
      ]
     },
     "execution_count": 13,
     "metadata": {},
     "output_type": "execute_result"
    }
   ],
   "source": [
    "pasos = 2\n",
    "\n",
    "prueba2 = prueba_reversible(X0, X1, pasos, L, cajitas, r_c, h)\n",
    "prueba2[1]"
   ]
  },
  {
   "cell_type": "markdown",
   "metadata": {},
   "source": [
    "### Graficando"
   ]
  },
  {
   "cell_type": "code",
   "execution_count": 18,
   "metadata": {
    "collapsed": false
   },
   "outputs": [
    {
     "data": {
      "text/plain": [
       "dibujante (generic function with 1 method)"
      ]
     },
     "execution_count": 18,
     "metadata": {},
     "output_type": "execute_result"
    }
   ],
   "source": [
    "function dibujante(registro::Matrix{Int64}, tiempo::Int64)\n",
    "    \n",
    "    if 0 > tiempo > size(registro, 2)\n",
    "        return println(\"El tiempo solicitado no se encuentra disponible en el registro dado.\")\n",
    "    end\n",
    "    \n",
    "    N = size(registro, 1)÷3 #Funciona si el número de entradas es múltiplo de 3\n",
    "    x = zeros(N)\n",
    "    y = zeros(N)\n",
    "    z = zeros(N)\n",
    "    \n",
    "    coord = registro[tiempo, :]\n",
    "    paleta = distinguishable_colors(N)\n",
    "    for i in 1:N\n",
    "        tinta = paleta[i]\n",
    "        x = collect(coord[3i-2])\n",
    "        y = collect(coord[3i-1])\n",
    "        z = collect(coord[3i])\n",
    "        plot3D(x, y, z, marker = \"o\", color = (tinta.r, tinta.g, tinta.b))\n",
    "    end\n",
    "end"
   ]
  },
  {
   "cell_type": "code",
   "execution_count": 21,
   "metadata": {
    "collapsed": false
   },
   "outputs": [
    {
     "data": {
      "image/png": "[encoded data removed]",
      "text/plain": [
       "PyPlot.Figure(PyObject <matplotlib.figure.Figure object at 0x31c7d7910>)"
      ]
     },
     "metadata": {},
     "output_type": "display_data"
    }
   ],
   "source": [
    "paso_temp = 10\n",
    "for t in 1:paso_temp\n",
    "    dibujante(registro, t)\n",
    "end\n",
    "#axis(\"off\")"
   ]
  },
  {
   "cell_type": "markdown",
   "metadata": {},
   "source": [
    "**Parece como si el error estuviera en la forma como se calculan las fuerzas**"
   ]
  }
 ],
 "metadata": {
  "kernelspec": {
   "display_name": "Julia 0.4.4-pre",
   "language": "julia",
   "name": "julia-0.4"
  },
  "language_info": {
   "file_extension": ".jl",
   "mimetype": "application/julia",
   "name": "julia",
   "version": "0.4.4"
  }
 },
 "nbformat": 4,
 "nbformat_minor": 0
}
