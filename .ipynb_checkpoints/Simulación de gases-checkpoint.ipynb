{
 "cells": [
  {
   "cell_type": "markdown",
   "metadata": {},
   "source": [
    "# <center> Simulación de Gases de Lennard-Jones *Reversible* "
   ]
  },
  {
   "cell_type": "markdown",
   "metadata": {},
   "source": [
    "El potencial de Lennard-Jones entre dos partículas $i, j$ separadas una distancia $r_{ij}$ es:\n",
    "\n",
    "$$ U_{LJ}(r_{ij}) = 4\\epsilon \\left[ \\left( \\frac{\\sigma}{r_{ij}} \\right)^{12} - \\left( \\frac{\\sigma}{r_{ij}} \\right)^6 \\right] $$\n",
    "\n",
    "Y la fuerza asociada es:\n",
    "\n",
    "$$ \\vec F_{LJ}(r_ij) = -\\nabla U_{LJ}(r_{ij}) = -48\\epsilon \\left[ \\left( \\frac{\\sigma}{r_{ij}} \\right)^{12} - \\frac{1}{2}\\left( \\frac{\\sigma}{r_{ij}} \\right)^6 \\right] \\frac{\\vec r_{ij}}{r_{ij}} $$"
   ]
  },
  {
   "cell_type": "markdown",
   "metadata": {},
   "source": [
    "Para evitar calculos poco relevantes para distancias largas se utiliza un **potencial truncado** suavemente a una distancia crítica **$r_c$**:\n",
    "\n",
    "$$ U(r) = \\left\\{ \t\n",
    "    \\begin{array}{ll}\n",
    "        U_{LJ}(r) - U_{LJ}(r_c) + 48\\epsilon \\left[ \\left( \\frac{\\sigma}{r_{ij}} \\right)^{12} - \\frac{1}{2}\\left( \\frac{\\sigma}{r_{ij}} \\right)^6 \\right] \\frac{r_-r_c}{r_c}  \n",
    "        & \\mbox{if } r < r_c \\\\\n",
    "\t\t0 & \\mbox{if } r \\geq r_c\n",
    "\t\\end{array}  \n",
    "\\right.\n",
    "$$"
   ]
  },
  {
   "cell_type": "markdown",
   "metadata": {},
   "source": [
    "$$ \\vec F(r) = \\left\\{ \t\n",
    "\\begin{array}{ll}\n",
    "48\\epsilon \\left[ \\left( \\frac{\\sigma}{r} \\right)^{12} - \\frac{1}{2}\\left( \\frac{\\sigma}{r} \\right)^6 \\right] \\frac{\\hat r}{r^2}\n",
    "-\n",
    "48\\epsilon \\left[ \\left( \\frac{\\sigma}{r_c} \\right)^{12} - \\frac{1}{2}\\left( \\frac{\\sigma}{r_c} \\right)^6 \\right] \\frac{\\hat r}{r\\ r_c}\n",
    "  & \\mbox{if } r < r_c \\\\\n",
    "\t\t\\vec 0 & \\mbox{if } r \\geq r_c\n",
    "\t\\end{array}  \n",
    "\\right.\n",
    "$$"
   ]
  },
  {
   "cell_type": "markdown",
   "metadata": {},
   "source": [
    "### Algoritmo de Levesque-Verlet"
   ]
  },
  {
   "cell_type": "markdown",
   "metadata": {},
   "source": [
    "$$ r_i(t+\\Delta t) = - r_i(t-\\Delta t) + 2r_i(t) + \\frac{(\\Delta t)^2}{m} \\vec F (\\vec r (t)) + \\mathcal{O}((\\Delta t ^3)) $$\n",
    "\n",
    "discretizando\n",
    "\n",
    "$$ r_{i_{n+1}} = - r_{i_{n-1}} + 2r_{i_n} + \\frac{h^2}{m}  F_i(\\vec r_n)  + \\mathcal{O}(h^3) $$ "
   ]
  },
  {
   "cell_type": "markdown",
   "metadata": {},
   "source": [
    "#### Variables adimensionales"
   ]
  },
  {
   "cell_type": "markdown",
   "metadata": {},
   "source": [
    "$$ R = r\\ /\\ \\sigma $$\n",
    "\n",
    "$$ T = t\\ /\\ t_o = n\\Delta t\\ /\\ t_o = nh$$\n",
    "\n",
    "$$ t_o = \\sigma \\sqrt{m \\ /\\ \\epsilon} $$\n",
    "\n",
    "$$ R_c = 2.5 $$\n",
    "\n",
    "$$ h = 0.005 $$"
   ]
  },
  {
   "cell_type": "markdown",
   "metadata": {},
   "source": [
    "##### Para $R < R_c$\n",
    "\n",
    "$$ \\vec F_{adimensional} = (\\sigma \\ /\\ \\epsilon)\\vec F (\\vec R) = 48 \\left\\{ \\left(\\frac{1}{R}\\right)^{13} - \\left(\\frac{1}{R}\\right)^{7} - \\left[ \\left(\\frac{1}{R_c}\\right)^{13} - \\frac{1}{2}\\left(\\frac{1}{R_c}\\right)^{7} \\right] \\right\\} \\frac{\\vec R}{R} $$"
   ]
  },
  {
   "cell_type": "markdown",
   "metadata": {},
   "source": [
    "$$ \\vec R (n+1) = \\vec R(n-1) +2\\vec R(n) - h^2 \\vec F_{ad} (R(n)) $$"
   ]
  },
  {
   "cell_type": "code",
   "execution_count": 1,
   "metadata": {
    "collapsed": false
   },
   "outputs": [],
   "source": [
    "#using ODE, PyPlot, Colors, Distributions"
   ]
  },
  {
   "cell_type": "markdown",
   "metadata": {},
   "source": [
    "Para este problema, necesitamos simular una caja de lado $L$ pero, como los números tipo `Float64` hacen operaciones de redondéo ya que difícilmente exísten en la representación binaria, se hará una transfórmación de la caja hacia una retícula en los enteros `Int64`.\n",
    "\n",
    "Para sistemas en el espacio libre, ie, $L \\to \\infty$, recurriremos al truco de **implementar fronteras periodicas**."
   ]
  },
  {
   "cell_type": "code",
   "execution_count": 2,
   "metadata": {
    "collapsed": false
   },
   "outputs": [
    {
     "data": {
      "text/plain": [
       "10.0"
      ]
     },
     "execution_count": 2,
     "metadata": {},
     "output_type": "execute_result"
    }
   ],
   "source": [
    "const L = 10. #100*2.5 # R_c = 2.5"
   ]
  },
  {
   "cell_type": "markdown",
   "metadata": {},
   "source": [
    "## Transformación a los Enteros\n",
    "\n",
    "Notemos los siguientes *detalles* sobre trabajar con enteros muy grandes ($\\sim 2^{64}$)"
   ]
  },
  {
   "cell_type": "code",
   "execution_count": 3,
   "metadata": {
    "collapsed": false
   },
   "outputs": [
    {
     "data": {
      "text/plain": [
       "0"
      ]
     },
     "execution_count": 3,
     "metadata": {},
     "output_type": "execute_result"
    }
   ],
   "source": [
    "2 ^ 64 #Ya no es representable por un Int64"
   ]
  },
  {
   "cell_type": "code",
   "execution_count": 4,
   "metadata": {
    "collapsed": false
   },
   "outputs": [
    {
     "data": {
      "text/plain": [
       "-9223372036854775808"
      ]
     },
     "execution_count": 4,
     "metadata": {},
     "output_type": "execute_result"
    }
   ],
   "source": [
    "2 ^ 63 #Tiene problemas de respresentación ya que un bit trabaja con el signo"
   ]
  },
  {
   "cell_type": "code",
   "execution_count": 5,
   "metadata": {
    "collapsed": false
   },
   "outputs": [
    {
     "data": {
      "text/plain": [
       "0"
      ]
     },
     "execution_count": 5,
     "metadata": {},
     "output_type": "execute_result"
    }
   ],
   "source": [
    "2000 * (2^62)"
   ]
  },
  {
   "cell_type": "markdown",
   "metadata": {},
   "source": [
    "Aún cuando $2^{62}$ ya es representable como un `Int64`, si el cálculo a priori a la transformación `Float`$\\to$ `Int` excede la máxima representación fiel de los tipo `Int64`, el resultado no será correcto.\n",
    "\n",
    "Debemos dar un espacio de cálculos. Así, la transformación a enteros o, visto en términos físicos, la resolución de cuadrícula de la caja debe ser un poquito menos refinada que $2^{62}$ para que podamos representar cualquier número calculado en las fuerzas del problema."
   ]
  },
  {
   "cell_type": "code",
   "execution_count": 6,
   "metadata": {
    "collapsed": false
   },
   "outputs": [
    {
     "data": {
      "text/plain": [
       "1152921504606846976"
      ]
     },
     "execution_count": 6,
     "metadata": {},
     "output_type": "execute_result"
    }
   ],
   "source": [
    "const res = 2^60"
   ]
  },
  {
   "cell_type": "code",
   "execution_count": 7,
   "metadata": {
    "collapsed": false
   },
   "outputs": [
    {
     "ename": "LoadError",
     "evalue": "LoadError: UndefVarError: flt_to_int not defined\nwhile loading In[7], in expression starting on line 1",
     "output_type": "error",
     "traceback": [
      "LoadError: UndefVarError: flt_to_int not defined\nwhile loading In[7], in expression starting on line 1",
      ""
     ]
    }
   ],
   "source": [
    "10.13* flt_to_int , typeof(10.13* flt_to_int) # 10.13 es un número de prueba nada más"
   ]
  },
  {
   "cell_type": "code",
   "execution_count": 8,
   "metadata": {
    "collapsed": false
   },
   "outputs": [
    {
     "ename": "LoadError",
     "evalue": "LoadError: UndefVarError: flt_to_int not defined\nwhile loading In[8], in expression starting on line 1",
     "output_type": "error",
     "traceback": [
      "LoadError: UndefVarError: flt_to_int not defined\nwhile loading In[8], in expression starting on line 1",
      ""
     ]
    }
   ],
   "source": [
    "Int64(10.13 * flt_to_int) , typeof(Int64(2. * flt_to_int))"
   ]
  },
  {
   "cell_type": "code",
   "execution_count": 9,
   "metadata": {
    "collapsed": false
   },
   "outputs": [
    {
     "ename": "LoadError",
     "evalue": "LoadError: UndefVarError: flt_to_int not defined\nwhile loading In[9], in expression starting on line 1",
     "output_type": "error",
     "traceback": [
      "LoadError: UndefVarError: flt_to_int not defined\nwhile loading In[9], in expression starting on line 1",
      ""
     ]
    }
   ],
   "source": [
    "Int64(10.13 * flt_to_int) == 10.13* flt_to_int"
   ]
  },
  {
   "cell_type": "code",
   "execution_count": 10,
   "metadata": {
    "collapsed": false
   },
   "outputs": [
    {
     "data": {
      "text/plain": [
       "flotante_a_entero2 (generic function with 1 method)"
      ]
     },
     "execution_count": 10,
     "metadata": {},
     "output_type": "execute_result"
    }
   ],
   "source": [
    " flotante_a_entero2(flotante::Float64) = Int64(flotante * flt_to_int / L)"
   ]
  },
  {
   "cell_type": "markdown",
   "metadata": {},
   "source": [
    "### Algo aquí no funciona"
   ]
  },
  {
   "cell_type": "code",
   "execution_count": 11,
   "metadata": {
    "collapsed": false,
    "scrolled": true
   },
   "outputs": [
    {
     "data": {
      "text/plain": [
       "true"
      ]
     },
     "execution_count": 11,
     "metadata": {},
     "output_type": "execute_result"
    }
   ],
   "source": [
    "ceil(Int64,5.5) === Int64(ceil(5.5))"
   ]
  },
  {
   "cell_type": "code",
   "execution_count": 12,
   "metadata": {
    "collapsed": false
   },
   "outputs": [
    {
     "data": {
      "text/plain": [
       "flotante_a_entero (generic function with 2 methods)"
      ]
     },
     "execution_count": 12,
     "metadata": {},
     "output_type": "execute_result"
    }
   ],
   "source": [
    "function flotante_a_entero(flotante:: Float64, lado_caja::Float64, cajitas::Int64 = 2^60)\n",
    "    Int64(ceil(cajitas*flotante/lado_caja))\n",
    "end"
   ]
  },
  {
   "cell_type": "code",
   "execution_count": 13,
   "metadata": {
    "collapsed": false
   },
   "outputs": [
    {
     "data": {
      "text/plain": [
       "(782210202144951296,Function)"
      ]
     },
     "execution_count": 13,
     "metadata": {},
     "output_type": "execute_result"
    }
   ],
   "source": [
    "flotante_a_entero(10.0*rand(), 10.0) , typeof(ans) #El flotante debería ser menor al lado de la caja."
   ]
  },
  {
   "cell_type": "code",
   "execution_count": 14,
   "metadata": {
    "collapsed": false
   },
   "outputs": [
    {
     "ename": "LoadError",
     "evalue": "LoadError: InexactError()\nwhile loading In[14], in expression starting on line 8",
     "output_type": "error",
     "traceback": [
      "LoadError: InexactError()\nwhile loading In[14], in expression starting on line 8",
      "",
      " in flotante_a_entero at In[12]:2"
     ]
    }
   ],
   "source": [
    "# BUG \n",
    "#Buscando el error\n",
    "ladin = 10.0\n",
    "cajitas = 2^60\n",
    "caso1 = 0.5e-17  #límite inferior\n",
    "caso2 = 8.0ladin #límite superior: Sube si se consideran menos cajas, i.e. 2^58\n",
    "# 8.0 == 2^3 -> 8*2^60 = 2^63 que ya no es fielmente representable ∴ marca error al intentar convertirlo.\n",
    "flotante_a_entero(caso2, ladin, cajitas)"
   ]
  },
  {
   "cell_type": "markdown",
   "metadata": {},
   "source": [
    "Si la **resolución** es : $2^60$ "
   ]
  },
  {
   "cell_type": "code",
   "execution_count": 15,
   "metadata": {
    "collapsed": false
   },
   "outputs": [
    {
     "data": {
      "text/plain": [
       "9.223372036854776e18"
      ]
     },
     "execution_count": 15,
     "metadata": {},
     "output_type": "execute_result"
    }
   ],
   "source": [
    "2^3. * 2^60"
   ]
  },
  {
   "cell_type": "code",
   "execution_count": 16,
   "metadata": {
    "collapsed": false
   },
   "outputs": [
    {
     "data": {
      "text/plain": [
       "8070450532247928832"
      ]
     },
     "execution_count": 16,
     "metadata": {},
     "output_type": "execute_result"
    }
   ],
   "source": [
    "flotante_a_entero(7.,1.,2^60)"
   ]
  },
  {
   "cell_type": "code",
   "execution_count": 17,
   "metadata": {
    "collapsed": false
   },
   "outputs": [
    {
     "data": {
      "text/plain": [
       "4611686018427387904"
      ]
     },
     "execution_count": 17,
     "metadata": {},
     "output_type": "execute_result"
    }
   ],
   "source": [
    "9*2^62 "
   ]
  },
  {
   "cell_type": "code",
   "execution_count": 18,
   "metadata": {
    "collapsed": false
   },
   "outputs": [
    {
     "ename": "LoadError",
     "evalue": "LoadError: InexactError()\nwhile loading In[18], in expression starting on line 1",
     "output_type": "error",
     "traceback": [
      "LoadError: InexactError()\nwhile loading In[18], in expression starting on line 1",
      "",
      " in call at essentials.jl:56"
     ]
    }
   ],
   "source": [
    "Int64(ceil(caso2 * 2^60))"
   ]
  },
  {
   "cell_type": "code",
   "execution_count": 19,
   "metadata": {
    "collapsed": false
   },
   "outputs": [
    {
     "data": {
      "text/plain": [
       "flotante_a_entero (generic function with 4 methods)"
      ]
     },
     "execution_count": 19,
     "metadata": {},
     "output_type": "execute_result"
    }
   ],
   "source": [
    "# Versión para arreglos, regresará un arreglo de Int64s\n",
    "function flotante_a_entero(vector_flotante::Vector{Float64}, lado_caja::Float64, cajitas::Int64 = 2^60)\n",
    "    \n",
    "    largo = length(vector_flotante)\n",
    "    vector_entero = Vector{Int64}(largo)\n",
    "    \n",
    "    for (i,flotante) in enumerate(vector_flotante)\n",
    "        vector_entero[i] = flotante_a_entero(flotante,lado_caja,cajitas)\n",
    "    end\n",
    "    vector_entero\n",
    "end"
   ]
  },
  {
   "cell_type": "code",
   "execution_count": 20,
   "metadata": {
    "collapsed": false
   },
   "outputs": [
    {
     "data": {
      "text/plain": [
       "([-91781955526791296,167273665552420128,14206233343792826,210829387662674752,32783239381783116],Function)"
      ]
     },
     "execution_count": 20,
     "metadata": {},
     "output_type": "execute_result"
    }
   ],
   "source": [
    "flotante_a_entero(randn(5),10.0) , typeof(ans)"
   ]
  },
  {
   "cell_type": "markdown",
   "metadata": {},
   "source": [
    "#### Entero a flotante"
   ]
  },
  {
   "cell_type": "code",
   "execution_count": 21,
   "metadata": {
    "collapsed": false
   },
   "outputs": [
    {
     "data": {
      "text/plain": [
       "entero_a_flotante (generic function with 2 methods)"
      ]
     },
     "execution_count": 21,
     "metadata": {},
     "output_type": "execute_result"
    }
   ],
   "source": [
    "function entero_a_flotante(entero:: Int64,lado_caja::Float64, cajitas::Int64 = 2^60)\n",
    "    Float64(entero*lado_caja/cajitas) #Por alguna razón el poner Float64() cambia los resultados...\n",
    "end"
   ]
  },
  {
   "cell_type": "code",
   "execution_count": 22,
   "metadata": {
    "collapsed": false
   },
   "outputs": [
    {
     "data": {
      "text/plain": [
       "entero_a_flotante (generic function with 4 methods)"
      ]
     },
     "execution_count": 22,
     "metadata": {},
     "output_type": "execute_result"
    }
   ],
   "source": [
    "# Verión para arreglos\n",
    "function entero_a_flotante(vector_entero:: Vector{Int64},lado_caja::Float64, cajitas::Int64 = 2^60)\n",
    "    largo = length(vector_entero)\n",
    "    vector_flotante = Vector{Float64}(largo)\n",
    "    \n",
    "    for (i,entero) in enumerate(vector_entero)\n",
    "        #         vector_flotante[i] = Float64(entero*lado_caja/cajitas)  #Esto resulta en algo inesperado... :(\n",
    "        vector_flotante[i] = entero_a_flotante(entero,lado_caja,cajitas)\n",
    "    end\n",
    "    vector_flotante\n",
    "end"
   ]
  },
  {
   "cell_type": "code",
   "execution_count": 23,
   "metadata": {
    "collapsed": false
   },
   "outputs": [
    {
     "data": {
      "text/plain": [
       "([8.526082937755641e-9,1.2849495937758415e-9,5.0983491994144314e-9,5.887832877499166e-9,4.34003587235221e-9],Function)"
      ]
     },
     "execution_count": 23,
     "metadata": {},
     "output_type": "execute_result"
    }
   ],
   "source": [
    "bubu = rand(1000000000:10000000000,5)\n",
    "entero_a_flotante(bubu,1.0) , typeof(ans)"
   ]
  },
  {
   "cell_type": "markdown",
   "metadata": {},
   "source": [
    "### Distribución inicial"
   ]
  },
  {
   "cell_type": "markdown",
   "metadata": {},
   "source": [
    "Dada una distribución inicial se generan movimientos aleatorios con una distribución gaussiana para obtener la siguiente distribución, por lo que las velocidades también tienen una distribución gaussiana. La desviación estandar de esta está relacionada con la temperatura. Esto nos ayuda para aplicar el método de Verlet que necesita de dos pasos temporales para operar."
   ]
  },
  {
   "cell_type": "code",
   "execution_count": 24,
   "metadata": {
    "collapsed": false
   },
   "outputs": [],
   "source": [
    "using Distributions"
   ]
  },
  {
   "cell_type": "code",
   "execution_count": 25,
   "metadata": {
    "collapsed": false
   },
   "outputs": [
    {
     "data": {
      "text/plain": [
       "fluctuacion_gaussiana (generic function with 3 methods)"
      ]
     },
     "execution_count": 25,
     "metadata": {},
     "output_type": "execute_result"
    }
   ],
   "source": [
    "function fluctuacion_gaussiana(X_0, media = 0.0, desv_std = 0.1)\n",
    "    largo = length(X_0)\n",
    "    distribucion = Normal(media, desv_std)\n",
    "    fluctuaciones = rand(distribucion, largo)\n",
    "    X_0 + fluctuaciones\n",
    "end"
   ]
  },
  {
   "cell_type": "code",
   "execution_count": 26,
   "metadata": {
    "collapsed": false
   },
   "outputs": [
    {
     "data": {
      "text/plain": [
       "12-element Array{Float64,1}:\n",
       "  0.596299 \n",
       "  0.587525 \n",
       "  0.6      \n",
       "  0.236887 \n",
       "  1.05041  \n",
       "  0.20796  \n",
       " -0.0147696\n",
       "  0.103709 \n",
       "  0.0642414\n",
       "  0.631564 \n",
       "  0.418467 \n",
       "  0.302628 "
      ]
     },
     "execution_count": 26,
     "metadata": {},
     "output_type": "execute_result"
    }
   ],
   "source": [
    "fluctuacion_gaussiana(rand(12))"
   ]
  },
  {
   "cell_type": "markdown",
   "metadata": {},
   "source": [
    "### Division de la caja en zonas de lado $r_c$"
   ]
  },
  {
   "cell_type": "markdown",
   "metadata": {},
   "source": [
    "Vamos a implementar el teselador dentro de la función que calcula las fuerzas para tomar en cuenta la periodicidad de las fronteras."
   ]
  },
  {
   "cell_type": "markdown",
   "metadata": {},
   "source": [
    "#### Un comportamiento extraño... BUG"
   ]
  },
  {
   "cell_type": "code",
   "execution_count": 27,
   "metadata": {
    "collapsed": false
   },
   "outputs": [
    {
     "data": {
      "text/plain": [
       "1125899906842624"
      ]
     },
     "execution_count": 27,
     "metadata": {},
     "output_type": "execute_result"
    }
   ],
   "source": [
    "cajma = 2^50"
   ]
  },
  {
   "cell_type": "code",
   "execution_count": 28,
   "metadata": {
    "collapsed": false
   },
   "outputs": [
    {
     "data": {
      "text/plain": [
       "0.6875"
      ]
     },
     "execution_count": 28,
     "metadata": {},
     "output_type": "execute_result"
    }
   ],
   "source": [
    "ceil(cajma/3) - cajma/3 #Parece que hacer ceil trae problemas... "
   ]
  },
  {
   "cell_type": "code",
   "execution_count": 29,
   "metadata": {
    "collapsed": false
   },
   "outputs": [
    {
     "data": {
      "text/plain": [
       "3.752999689475413125000000000000000000000000000000000000000000000000000000000000e+14"
      ]
     },
     "execution_count": 29,
     "metadata": {},
     "output_type": "execute_result"
    }
   ],
   "source": [
    "big(cajma/3)"
   ]
  },
  {
   "cell_type": "code",
   "execution_count": 30,
   "metadata": {
    "collapsed": false
   },
   "outputs": [
    {
     "data": {
      "text/plain": [
       "3.752999689475420000000000000000000000000000000000000000000000000000000000000000e+14"
      ]
     },
     "execution_count": 30,
     "metadata": {},
     "output_type": "execute_result"
    }
   ],
   "source": [
    "big(ceil(cajma/3))"
   ]
  },
  {
   "cell_type": "code",
   "execution_count": 31,
   "metadata": {
    "collapsed": false
   },
   "outputs": [
    {
     "data": {
      "text/plain": [
       "375299968947541"
      ]
     },
     "execution_count": 31,
     "metadata": {},
     "output_type": "execute_result"
    }
   ],
   "source": [
    "big(cajma÷3)"
   ]
  },
  {
   "cell_type": "code",
   "execution_count": 32,
   "metadata": {
    "collapsed": false
   },
   "outputs": [
    {
     "data": {
      "text/plain": [
       "1"
      ]
     },
     "execution_count": 32,
     "metadata": {},
     "output_type": "execute_result"
    }
   ],
   "source": [
    "cajma % 3 # 2^50 no es divisible entre 3, hay que cuidar la jerarquía de operaciones "
   ]
  },
  {
   "cell_type": "code",
   "execution_count": 33,
   "metadata": {
    "collapsed": false
   },
   "outputs": [
    {
     "ename": "LoadError",
     "evalue": "LoadError: InexactError()\nwhile loading In[33], in expression starting on line 1",
     "output_type": "error",
     "traceback": [
      "LoadError: InexactError()\nwhile loading In[33], in expression starting on line 1",
      "",
      " in call at essentials.jl:56"
     ]
    }
   ],
   "source": [
    "3*Int64(cajma/3)"
   ]
  },
  {
   "cell_type": "code",
   "execution_count": 34,
   "metadata": {
    "collapsed": false
   },
   "outputs": [
    {
     "data": {
      "text/plain": [
       "1125899906842626"
      ]
     },
     "execution_count": 34,
     "metadata": {},
     "output_type": "execute_result"
    }
   ],
   "source": [
    "3*Int64(ceil(cajma/3))"
   ]
  },
  {
   "cell_type": "code",
   "execution_count": 35,
   "metadata": {
    "collapsed": false
   },
   "outputs": [
    {
     "data": {
      "text/plain": [
       "2"
      ]
     },
     "execution_count": 35,
     "metadata": {},
     "output_type": "execute_result"
    }
   ],
   "source": [
    "3*Int64(ceil(cajma/3)) - cajma"
   ]
  },
  {
   "cell_type": "code",
   "execution_count": 36,
   "metadata": {
    "collapsed": false
   },
   "outputs": [
    {
     "data": {
      "text/plain": [
       "2.0625"
      ]
     },
     "execution_count": 36,
     "metadata": {},
     "output_type": "execute_result"
    }
   ],
   "source": [
    ".6875 * 3 #Parece que esto es lo que hace la diferencia en las conversiones"
   ]
  },
  {
   "cell_type": "code",
   "execution_count": 37,
   "metadata": {
    "collapsed": false
   },
   "outputs": [
    {
     "data": {
      "text/plain": [
       "teselador_mat (generic function with 2 methods)"
      ]
     },
     "execution_count": 37,
     "metadata": {},
     "output_type": "execute_result"
    }
   ],
   "source": [
    "function teselador_mat(coordenadas::Vector{Int64}, divisiones::Int64, cajitas::Int64 = 2^60)  #De entrada en enteros.\n",
    "      \n",
    "    #rc_entero = Int64(ceil(cajitas/divisiones)) #El radio crítico en unidades de cajitas (2^60 enteros) \n",
    "    rc_entero = cld(cajitas, divisiones)\n",
    "    rango = 1:divisiones\n",
    "    zonas = [Int64[] for i = rango, j = rango, k = rango]\n",
    "    \n",
    "    largo = length(coordenadas)\n",
    "    \n",
    "    for i in 3:3:largo\n",
    "        xn = Int64(ceil(coordenadas[i-2] / rc_entero))\n",
    "        yn = Int64(ceil(coordenadas[i-1] / rc_entero))\n",
    "        zn = Int64(ceil(coordenadas[i]   / rc_entero))\n",
    "        push!(zonas[xn,yn,zn],i) #probelma de verlet_evolución\n",
    "    end\n",
    "    zonas\n",
    "end"
   ]
  },
  {
   "cell_type": "code",
   "execution_count": 38,
   "metadata": {
    "collapsed": false
   },
   "outputs": [
    {
     "data": {
      "text/plain": [
       "2x2x2 Array{Array{Int64,1},3}:\n",
       "[:, :, 1] =\n",
       " Int64[]     Int64[]\n",
       " [15,18,24]  Int64[]\n",
       "\n",
       "[:, :, 2] =\n",
       " [9,30]     [12]\n",
       " [6,21,27]  [3] "
      ]
     },
     "execution_count": 38,
     "metadata": {},
     "output_type": "execute_result"
    }
   ],
   "source": [
    "# ¡Funciona!\n",
    "coord = rand(1:10,30)\n",
    "div   = 2\n",
    "caj   = 10\n",
    "teselador_mat(coord,div,caj)"
   ]
  },
  {
   "cell_type": "markdown",
   "metadata": {},
   "source": [
    "### Ahora la función que relacionara las zonas con sus vecinos más cercanos (en 3D son 7)."
   ]
  },
  {
   "cell_type": "code",
   "execution_count": 39,
   "metadata": {
    "collapsed": false
   },
   "outputs": [
    {
     "data": {
      "text/plain": [
       "vecinos_mod (generic function with 1 method)"
      ]
     },
     "execution_count": 39,
     "metadata": {},
     "output_type": "execute_result"
    }
   ],
   "source": [
    "### Aunque esto es más corto es conveniente usar muchos if porque calcular modulos constantemente puede tardar...\n",
    "function vecinos_mod{T<:Int64}(zonas::Array{Vector{T},3}, i::T, j::T, k::T)\n",
    "\n",
    "    imax, jmax, kmax = size(zonas)\n",
    "\n",
    "    i_plus = mod1(i+1, imax)\n",
    "    j_plus = mod1(j+1, jmax)\n",
    "    k_plus = mod1(k+1, kmax)\n",
    "    \n",
    "#   vecindad = zonas[i,j,k]  #Incluyendo la zona inicial.\n",
    "    vecindad = Int64[]  #Incluyendo sólo a los vecinos de la zona inicial.\n",
    "    \n",
    "    #Vecinos Primarios\n",
    "    append!(vecindad, zonas[i_plus, j, k])\n",
    "    append!(vecindad, zonas[i, j_plus, k])\n",
    "    append!(vecindad, zonas[i, j, k_plus])\n",
    "    #Vecinos Secundarios\n",
    "    append!(vecindad, zonas[i_plus, j_plus, k])\n",
    "    append!(vecindad, zonas[i, j_plus, k_plus])\n",
    "    append!(vecindad, zonas[i_plus, j, k_plus])\n",
    "    #Vecinos Terciarios\n",
    "    append!(vecindad, zonas[i_plus, j_plus, k_plus])\n",
    "    vecindad\n",
    "end"
   ]
  },
  {
   "cell_type": "code",
   "execution_count": 40,
   "metadata": {
    "collapsed": false
   },
   "outputs": [
    {
     "data": {
      "text/plain": [
       "vecinos (generic function with 1 method)"
      ]
     },
     "execution_count": 40,
     "metadata": {},
     "output_type": "execute_result"
    }
   ],
   "source": [
    "function vecinos{T<:Int64}(zonas::Array{Vector{T},3}, i::T, j::T, k::T)\n",
    "    \n",
    "    imax, jmax, kmax = size(zonas)\n",
    "#   vecindad = zonas[i,j,k]  #Incluyendo la zona inicial.\n",
    "    vecindad = Int64[]  #Incluyendo sólo a los vecinos de la zona inicial.\n",
    "    \n",
    "    if i == imax\n",
    "        append!(vecindad, zonas[1,j,k])\n",
    "        \n",
    "        if j == jmax\n",
    "            append!(vecindad, zonas[i,1,k])\n",
    "            append!(vecindad, zonas[1,1,k])\n",
    "            \n",
    "            if k == kmax \n",
    "                append!(vecindad, zonas[i,j,1])\n",
    "                append!(vecindad, zonas[i,1,1])\n",
    "                append!(vecindad, zonas[1,j,1])\n",
    "                append!(vecindad, zonas[1,1,1])\n",
    "            else\n",
    "                append!(vecindad, zonas[i,j,k+1])\n",
    "                append!(vecindad, zonas[i,1,k+1])\n",
    "                append!(vecindad, zonas[1,j,k+1])\n",
    "                append!(vecindad, zonas[1,1,k+1])\n",
    "            end\n",
    "        else\n",
    "            append!(vecindad, zonas[i,j+1,k])\n",
    "            append!(vecindad, zonas[1,j+1,k])\n",
    "            \n",
    "            if k == kmax \n",
    "                append!(vecindad, zonas[i,j,1])\n",
    "                append!(vecindad, zonas[i,j+1,1])\n",
    "                append!(vecindad, zonas[1,j,1])\n",
    "                append!(vecindad, zonas[1,j+1,1])\n",
    "            else\n",
    "                append!(vecindad, zonas[i,j,k+1])\n",
    "                append!(vecindad, zonas[i,j+1,k+1])\n",
    "                append!(vecindad, zonas[1,j,k+1])\n",
    "                append!(vecindad, zonas[1,j+1,k+1])\n",
    "            end\n",
    "            \n",
    "        end\n",
    "    else\n",
    "        append!(vecindad, zonas[i+1,j,k])\n",
    "        \n",
    "        if j == jmax\n",
    "            append!(vecindad, zonas[i,1,k])\n",
    "            append!(vecindad, zonas[i+1,1,k])\n",
    "            \n",
    "            if k == kmax \n",
    "                append!(vecindad, zonas[i,j,1])\n",
    "                append!(vecindad, zonas[i,1,1])\n",
    "                append!(vecindad, zonas[i+1,j,1])\n",
    "                append!(vecindad, zonas[i+1,1,1])\n",
    "            else\n",
    "                append!(vecindad, zonas[i,j,k+1])\n",
    "                append!(vecindad, zonas[i,1,k+1])\n",
    "                append!(vecindad, zonas[i+1,j,k+1])\n",
    "                append!(vecindad, zonas[i+1,1,k+1])\n",
    "            end\n",
    "        else\n",
    "            append!(vecindad, zonas[i,j+1,k])\n",
    "            append!(vecindad, zonas[i+1,j+1,k])\n",
    "            \n",
    "            if k == kmax\n",
    "                append!(vecindad, zonas[i,j,1])\n",
    "                append!(vecindad, zonas[i,j+1,1])\n",
    "                append!(vecindad, zonas[i+1,j,1])\n",
    "                append!(vecindad, zonas[i+1,j+1,1])\n",
    "            else\n",
    "                append!(vecindad, zonas[i,j,k+1])\n",
    "                append!(vecindad, zonas[i,j+1,k+1])\n",
    "                append!(vecindad, zonas[i+1,j,k+1])\n",
    "                append!(vecindad, zonas[i+1,j+1,k+1])\n",
    "            end\n",
    "            \n",
    "        end\n",
    "    end\n",
    "    vecindad\n",
    "end"
   ]
  },
  {
   "cell_type": "code",
   "execution_count": 41,
   "metadata": {
    "collapsed": false
   },
   "outputs": [
    {
     "data": {
      "text/plain": [
       "3x3x3 Array{Array{Int64,1},3}:\n",
       "[:, :, 1] =\n",
       " [21]     Int64[]       [3,9]  \n",
       " [36,66]  [72,90,99]    Int64[]\n",
       " [18,69]  [6,45,51,57]  [30,93]\n",
       "\n",
       "[:, :, 2] =\n",
       " Int64[]  [54]     [75]   \n",
       " Int64[]  [48]     [81,96]\n",
       " [12]     [15,63]  Int64[]\n",
       "\n",
       "[:, :, 3] =\n",
       " [84]     [33,42]  Int64[]\n",
       " [78]     Int64[]  Int64[]\n",
       " [39,87]  [60]     [24,27]"
      ]
     },
     "execution_count": 41,
     "metadata": {},
     "output_type": "execute_result"
    }
   ],
   "source": [
    "#Parece ser que sí funciona\n",
    "\n",
    "coord = rand(1:15,100) \n",
    "div = 3\n",
    "caj = 15\n",
    "buse = teselador_mat(coord,div,caj)\n",
    "buse"
   ]
  },
  {
   "cell_type": "code",
   "execution_count": 42,
   "metadata": {
    "collapsed": false
   },
   "outputs": [
    {
     "data": {
      "text/plain": [
       "7-element Array{Int64,1}:\n",
       " 36\n",
       " 66\n",
       " 72\n",
       " 90\n",
       " 99\n",
       " 54\n",
       " 48"
      ]
     },
     "execution_count": 42,
     "metadata": {},
     "output_type": "execute_result"
    }
   ],
   "source": [
    "vecinos(buse, 1,1,1)"
   ]
  },
  {
   "cell_type": "code",
   "execution_count": 43,
   "metadata": {
    "collapsed": false
   },
   "outputs": [
    {
     "data": {
      "text/plain": [
       "7-element Array{Int64,1}:\n",
       " 36\n",
       " 66\n",
       " 72\n",
       " 90\n",
       " 99\n",
       " 54\n",
       " 48"
      ]
     },
     "execution_count": 43,
     "metadata": {},
     "output_type": "execute_result"
    }
   ],
   "source": [
    "vecinos_mod(buse, 1,1,1)"
   ]
  },
  {
   "cell_type": "markdown",
   "metadata": {},
   "source": [
    "#### Es mejor la versión larga, pero si no hay mucha diferencia podría usarse la versión con módulo, es más fácil de leer."
   ]
  },
  {
   "cell_type": "code",
   "execution_count": 44,
   "metadata": {
    "collapsed": false
   },
   "outputs": [
    {
     "name": "stdout",
     "output_type": "stream",
     "text": [
      "  "
     ]
    }
   ],
   "source": [
    "@timev for i in 1:10000000\n",
    "    vecinos(buse, 1,1,1) \n",
    "end"
   ]
  },
  {
   "cell_type": "code",
   "execution_count": 45,
   "metadata": {
    "collapsed": false
   },
   "outputs": [
    {
     "name": "stdout",
     "output_type": "stream",
     "text": [
      "2.931281 seconds (30.00 M allocations: 1.788 GB, 5.07% gc time)\n",
      "elapsed time (ns): 2931281162\n",
      "gc time (ns):      148527072\n",
      "bytes allocated:   1920000000\n",
      "pool allocs:       30000000\n",
      "GC pauses:         84\n",
      "  "
     ]
    }
   ],
   "source": [
    "@timev for i in 1:10000000\n",
    "    vecinos_mod(buse, 1,1,1)\n",
    "end"
   ]
  },
  {
   "cell_type": "markdown",
   "metadata": {},
   "source": [
    "### Cálculo de la fuerza intermolecular entre una zona y sus vecinos (incluyendola a ella misma)"
   ]
  },
  {
   "cell_type": "code",
   "execution_count": 46,
   "metadata": {
    "collapsed": false
   },
   "outputs": [
    {
     "data": {
      "text/plain": [
       "fuerza (generic function with 2 methods)"
      ]
     },
     "execution_count": 46,
     "metadata": {},
     "output_type": "execute_result"
    }
   ],
   "source": [
    "function fuerza(r::Float64, r_c::Float64 = 2.5)\n",
    "    48(r^(-13)-r^(-7) - ((r_c)^(-13) - r_c^(-7))/2)/r_c\n",
    "end"
   ]
  },
  {
   "cell_type": "code",
   "execution_count": 47,
   "metadata": {
    "collapsed": false
   },
   "outputs": [
    {
     "data": {
      "text/plain": [
       "fuerza (generic function with 2 methods)"
      ]
     },
     "execution_count": 47,
     "metadata": {},
     "output_type": "execute_result"
    }
   ],
   "source": [
    "function fuerza(r::Float64,  r_c::Float64 = 2.5 )\n",
    "    if r < 0.35\n",
    "        return 48(0.37^(-13)-0.37^(-7) - ((r_c)^(-13) - r_c^(-7))/2)/r_c\n",
    "    else\n",
    "        return 48(r^(-13)-r^(-7) - ((r_c)^(-13) - r_c^(-7))/2)/r_c\n",
    "    end\n",
    "end"
   ]
  },
  {
   "cell_type": "code",
   "execution_count": 48,
   "metadata": {
    "collapsed": false
   },
   "outputs": [
    {
     "data": {
      "text/plain": [
       "fuerzas! (generic function with 1 method)"
      ]
     },
     "execution_count": 48,
     "metadata": {},
     "output_type": "execute_result"
    }
   ],
   "source": [
    "function fuerzas!{T<:Int64}(fuerzas::Vector{T}, coord_enteras::Vector{T}, i::T, j::T, cajitas::T, lado_caja::Float64, radio_critico::Float64, h::Float64)\n",
    "    #Primero operamos con enteros\n",
    "    x_i = coord_enteras[i-2]\n",
    "    y_i = coord_enteras[i-1]\n",
    "    z_i = coord_enteras[i]\n",
    "\n",
    "    x_j = coord_enteras[j-2]\n",
    "    y_j = coord_enteras[j-1]\n",
    "    z_j = coord_enteras[j]\n",
    "\n",
    "    #Pasamos a flotantes para el cálculo de la distancia y la fuerza\n",
    "    x_ij = entero_a_flotante(x_j - x_i, lado_caja, cajitas)\n",
    "    y_ij = entero_a_flotante(y_j - y_i, lado_caja, cajitas)\n",
    "    z_ij = entero_a_flotante(z_j - z_i, lado_caja, cajitas)\n",
    "\n",
    "    #Hay que considerar que la distancia se ve afectada por las fronteras periódicas.\n",
    "    #Esta solución sólo funciona si hay más que tres divisiones por lado.\n",
    "    \n",
    "    #El factor de 2 está bien porque estamos considerando cada coordenada por separado.\n",
    "    rad_max = 2radio_critico  \n",
    "    \n",
    "    #Si la distancia es negativa la periodicidad la vuelve positiva, y viceversa.\n",
    "    if x_ij > rad_max \n",
    "        x_ij -= lado_caja\n",
    "    elseif x_ij < -rad_max\n",
    "        x_ij += lado_caja\n",
    "    end\n",
    "    if y_ij > rad_max \n",
    "        y_ij -= lado_caja\n",
    "    elseif y_ij < -rad_max\n",
    "        y_ij += lado_caja\n",
    "    end\n",
    "    if z_ij > rad_max \n",
    "        z_ij -= lado_caja\n",
    "    elseif z_ij < -rad_max\n",
    "        z_ij += lado_caja\n",
    "    end\n",
    "    \n",
    "    r_ij = sqrt(x_ij^2 + y_ij^2 + z_ij^2)\n",
    "\n",
    "    f_ij = fuerza(r_ij, radio_critico)\n",
    "\n",
    "    fx = f_ij * x_ij\n",
    "    fy = f_ij * y_ij\n",
    "    fz = f_ij * z_ij\n",
    "    \n",
    "    h2 = h^2\n",
    "    \n",
    "    #println(\"el valor de r_ij es: \", r_ij)\n",
    "    #println(\"el valor de fx*h2 es: \", fx * h2)\n",
    "    \n",
    "    #Volvemos a enteros\n",
    "    fxh = flotante_a_entero(fx * h2, lado_caja, cajitas)\n",
    "    fyh = flotante_a_entero(fy * h2, lado_caja, cajitas)\n",
    "    fzh = flotante_a_entero(fz * h2, lado_caja, cajitas)\n",
    "\n",
    "    fuerzas[i-2] += fxh\n",
    "    fuerzas[i-1] += fyh\n",
    "    fuerzas[i] += fzh\n",
    "\n",
    "    fuerzas[j-2] -= fxh\n",
    "    fuerzas[j-1] -= fyh\n",
    "    fuerzas[j] -= fzh\n",
    "end"
   ]
  },
  {
   "cell_type": "code",
   "execution_count": 49,
   "metadata": {
    "collapsed": false
   },
   "outputs": [
    {
     "data": {
      "text/plain": [
       "vector_fuerzas (generic function with 4 methods)"
      ]
     },
     "execution_count": 49,
     "metadata": {},
     "output_type": "execute_result"
    }
   ],
   "source": [
    "# El algoritmo de Verlet no ocupa las velocidades de las partículas.\n",
    "# Suponemos que todas las masas son iguales\n",
    "\n",
    "function vector_fuerzas{T<:Float64}(coord_enteras::Vector{Int64}, lado_caja::T, cajitas::Int64 = 2^60 , radio_critico::T = 2.5, h::T = 0.005) \n",
    "    \n",
    "    # coordenadas es el arreglo con las posiciones X = (x1,y1,z1, x2,y2,z2, ...)\n",
    "    largo = length(coord_enteras)\n",
    "    suma_fuerzas = zeros(Int64, largo)\n",
    "    \n",
    "    ##### Creo que aquí está el error #####\n",
    "    divisiones_flotante = lado_caja/radio_critico #De preferencia que lado_caja sea múltiplo de radio_crítico\n",
    "    divisiones = Int64(ceil(divisiones_flotante))\n",
    "    zonas = teselador_mat(coord_enteras, divisiones, cajitas)\n",
    "    \n",
    "    for m = 1:divisiones, n = 1:divisiones, l = 1:divisiones\n",
    "        zona = zonas[m,n,l]\n",
    "        vecindario = vecinos(zonas,m,n,l)\n",
    "        \n",
    "        #Aquí aseguramos que las fuerzas dentro de zona sólo se calculen una ocasión.\n",
    "        #Si ambas partículas están dentro de zona hay que imponer i<j para lo anterior.\n",
    "    \n",
    "        for i in zona, j in zona\n",
    "            if i<j  #Para no calcular dos veces la misma fuerza.\n",
    "                fuerzas!(suma_fuerzas, coord_enteras, i, j, cajitas, lado_caja, radio_critico, h) \n",
    "            end\n",
    "        end\n",
    "        #Si en cambio una está en zona y la otra en vecinos i<j no es necesario.\n",
    "        for i in zona, j in vecindario\n",
    "            fuerzas!(suma_fuerzas, coord_enteras, i, j, cajitas, lado_caja, radio_critico, h) \n",
    "        end\n",
    "    end\n",
    "    suma_fuerzas\n",
    "end"
   ]
  },
  {
   "cell_type": "code",
   "execution_count": 50,
   "metadata": {
    "collapsed": false
   },
   "outputs": [],
   "source": [
    "inicial = randn(1200).+5;\n",
    "segundo = fluctuacion_gaussiana(inicial, 0.1);"
   ]
  },
  {
   "cell_type": "code",
   "execution_count": 51,
   "metadata": {
    "collapsed": false
   },
   "outputs": [],
   "source": [
    "lado = 2.5 * 10\n",
    "X0 = flotante_a_entero(inicial, lado)\n",
    "X1 = flotante_a_entero(segundo, lado);"
   ]
  },
  {
   "cell_type": "code",
   "execution_count": 52,
   "metadata": {
    "collapsed": false
   },
   "outputs": [
    {
     "data": {
      "text/plain": [
       "(10,10,10)"
      ]
     },
     "execution_count": 52,
     "metadata": {},
     "output_type": "execute_result"
    }
   ],
   "source": [
    "size(teselador_mat(X1, ceil(Int64,lado/2.5)))"
   ]
  },
  {
   "cell_type": "code",
   "execution_count": 53,
   "metadata": {
    "collapsed": false,
    "scrolled": true
   },
   "outputs": [
    {
     "name": "stdout",
     "output_type": "stream",
     "text": [
      "3.377795 seconds (30.00 M allocations: 1.788 GB, 4.34% gc time)\n",
      "elapsed time (ns): 3377794964\n",
      "gc time (ns):      146454241\n",
      "bytes allocated:   1920000000\n",
      "pool allocs:       30000000\n",
      "GC pauses:         83\n"
     ]
    },
    {
     "data": {
      "text/plain": [
       "8"
      ]
     },
     "execution_count": 53,
     "metadata": {},
     "output_type": "execute_result"
    }
   ],
   "source": [
    "2^3"
   ]
  },
  {
   "cell_type": "code",
   "execution_count": null,
   "metadata": {
    "collapsed": true
   },
   "outputs": [],
   "source": []
  },
  {
   "cell_type": "code",
   "execution_count": 54,
   "metadata": {
    "collapsed": false,
    "scrolled": false
   },
   "outputs": [],
   "source": [
    "inicial = randn(1200).+5;\n",
    "segundo = fluctuacion_gaussiana(inicial, 0.1);\n",
    "\n",
    "lado = 2.5 * 10\n",
    "X0 = flotante_a_entero(inicial, lado)\n",
    "X1 = flotante_a_entero(segundo, lado);\n",
    "\n",
    "F = vector_fuerzas(X0 , lado, 2^60);"
   ]
  },
  {
   "cell_type": "code",
   "execution_count": null,
   "metadata": {
    "collapsed": true
   },
   "outputs": [],
   "source": []
  },
  {
   "cell_type": "code",
   "execution_count": 55,
   "metadata": {
    "collapsed": false
   },
   "outputs": [
    {
     "ename": "LoadError",
     "evalue": "LoadError: InexactError()\nwhile loading In[55], in expression starting on line 1",
     "output_type": "error",
     "traceback": [
      "LoadError: InexactError()\nwhile loading In[55], in expression starting on line 1",
      "",
      " in call at essentials.jl:56"
     ]
    }
   ],
   "source": [
    "Int64(ceil(1e8*2^60/250))"
   ]
  },
  {
   "cell_type": "markdown",
   "metadata": {},
   "source": [
    "#### Probablemente podríamos ahorrarnos todas las molestias si forzamos que el lado de la caja sea un múltiplo entero del radio crítico..."
   ]
  },
  {
   "cell_type": "markdown",
   "metadata": {},
   "source": [
    "### Algoritmo de Verlet con fronteras periodicas y trabajando en enteros."
   ]
  },
  {
   "cell_type": "code",
   "execution_count": 56,
   "metadata": {
    "collapsed": false
   },
   "outputs": [
    {
     "data": {
      "text/plain": [
       "paso_verlet (generic function with 4 methods)"
      ]
     },
     "execution_count": 56,
     "metadata": {},
     "output_type": "execute_result"
    }
   ],
   "source": [
    "function paso_verlet{T<:Int64}(coord_previas::Vector{T}, coord_actuales::Vector{T}, lado_caja::Float64 ,cajitas::T = 2^60, r_c::Float64 = 2.5, h::Float64 = 0.005)\n",
    "#     coord_futuras = coord_previas + 2coord_actuales - vector_fuerzas(coord_actuales, r_c, h)\n",
    "    \n",
    "    largo = length(coord_previas)\n",
    "    coord_futuras = zeros(Int64, largo)\n",
    "    for i in 1:largo\n",
    "        coord_futuras[i] = coord_previas[i] + 2*coord_actuales[i] - vector_fuerzas(coord_actuales, lado_caja, cajitas ,r_c, h)[i]\n",
    "        #Hay que revisar que no se salgan de la cajita, el rollo es periodico.\n",
    "        if coord_futuras[i] > cajitas\n",
    "            coord_futuras[i] -= cajitas\n",
    "        elseif coord_futuras[i] < 1\n",
    "            coord_futuras[i] += cajitas\n",
    "        end\n",
    "    end\n",
    "    coord_futuras\n",
    "end"
   ]
  },
  {
   "cell_type": "code",
   "execution_count": 57,
   "metadata": {
    "collapsed": false
   },
   "outputs": [],
   "source": [
    "inicial = randn(12).+5\n",
    "segundo = fluctuacion_gaussiana(inicial, 0.01)\n",
    "lado = 25.0\n",
    "X0 = flotante_a_entero(inicial, lado)\n",
    "X1 = flotante_a_entero(segundo, lado)\n",
    "X2 = paso_verlet(X0, X1, lado, 2^60);"
   ]
  },
  {
   "cell_type": "code",
   "execution_count": 67,
   "metadata": {
    "collapsed": false
   },
   "outputs": [
    {
     "name": "stdout",
     "output_type": "stream",
     "text": [
      "  0.003380 seconds (24.37 k allocations: 1.575 MB)\n"
     ]
    }
   ],
   "source": [
    "@time X3 = paso_verlet(X1, X2, lado, 2^60);"
   ]
  },
  {
   "cell_type": "code",
   "execution_count": 59,
   "metadata": {
    "collapsed": false
   },
   "outputs": [],
   "source": [
    "X4 = paso_verlet(X2, X3, lado, 2^60);"
   ]
  },
  {
   "cell_type": "code",
   "execution_count": 60,
   "metadata": {
    "collapsed": true
   },
   "outputs": [
    {
     "ename": "LoadError",
     "evalue": "LoadError: BoundsError: attempt to access 10x10x10 Array{Array{Int64,1},3}:\n[:, :, 1] =\n Int64[]  Int64[]  Int64[]  Int64[]  …  Int64[]  Int64[]  Int64[]  Int64[]\n Int64[]  Int64[]  Int64[]  Int64[]     Int64[]  Int64[]  Int64[]  Int64[]\n Int64[]  Int64[]  Int64[]  Int64[]     Int64[]  Int64[]  Int64[]  Int64[]\n Int64[]  Int64[]  Int64[]  Int64[]     Int64[]  Int64[]  Int64[]  Int64[]\n Int64[]  Int64[]  Int64[]  Int64[]     Int64[]  Int64[]  Int64[]  Int64[]\n Int64[]  Int64[]  Int64[]  Int64[]  …  Int64[]  Int64[]  Int64[]  Int64[]\n Int64[]  Int64[]  Int64[]  Int64[]     Int64[]  Int64[]  Int64[]  Int64[]\n Int64[]  Int64[]  Int64[]  Int64[]     Int64[]  Int64[]  Int64[]  Int64[]\n Int64[]  Int64[]  Int64[]  Int64[]     Int64[]  Int64[]  Int64[]  Int64[]\n Int64[]  Int64[]  Int64[]  Int64[]     Int64[]  Int64[]  Int64[]  Int64[]\n\n[:, :, 2] =\n Int64[]  Int64[]  Int64[]  Int64[]  …  Int64[]  Int64[]  Int64[]  Int64[]\n Int64[]  Int64[]  Int64[]  Int64[]     Int64[]  Int64[]  Int64[]  Int64[]\n Int64[]  Int64[]  Int64[]  Int64[]     Int64[]  Int64[]  Int64[]  Int64[]\n Int64[]  Int64[]  Int64[]  Int64[]     Int64[]  Int64[]  Int64[]  Int64[]\n Int64[]  Int64[]  Int64[]  Int64[]     Int64[]  Int64[]  Int64[]  Int64[]\n Int64[]  Int64[]  Int64[]  Int64[]  …  Int64[]  Int64[]  Int64[]  Int64[]\n Int64[]  Int64[]  Int64[]  Int64[]     Int64[]  Int64[]  Int64[]  Int64[]\n Int64[]  Int64[]  Int64[]  Int64[]     Int64[]  Int64[]  Int64[]  Int64[]\n Int64[]  Int64[]  Int64[]  Int64[]     Int64[]  Int64[]  Int64[]  Int64[]\n Int64[]  Int64[]  Int64[]  Int64[]     Int64[]  Int64[]  Int64[]  Int64[]\n\n[:, :, 3] =\n Int64[]  Int64[]  Int64[]  Int64[]  …  Int64[]  Int64[]  Int64[]  Int64[]\n Int64[]  Int64[]  Int64[]  Int64[]     Int64[]  Int64[]  Int64[]  Int64[]\n Int64[]  Int64[]  Int64[]  Int64[]     Int64[]  Int64[]  Int64[]  Int64[]\n Int64[]  Int64[]  Int64[]  Int64[]     Int64[]  Int64[]  Int64[]  Int64[]\n Int64[]  Int64[]  Int64[]  Int64[]     Int64[]  Int64[]  Int64[]  Int64[]\n Int64[]  Int64[]  Int64[]  Int64[]  …  Int64[]  Int64[]  Int64[]  Int64[]\n Int64[]  Int64[]  Int64[]  Int64[]     Int64[]  Int64[]  Int64[]  Int64[]\n Int64[]  Int64[]  Int64[]  Int64[]     Int64[]  Int64[]  Int64[]  Int64[]\n Int64[]  Int64[]  Int64[]  Int64[]     Int64[]  Int64[]  Int64[]  Int64[]\n Int64[]  Int64[]  Int64[]  Int64[]     Int64[]  Int64[]  Int64[]  Int64[]\n\n[:, :, 4] =\n Int64[]  Int64[]  Int64[]  Int64[]  …  Int64[]  Int64[]  Int64[]  Int64[]\n Int64[]  Int64[]  Int64[]  Int64[]     Int64[]  Int64[]  Int64[]  Int64[]\n Int64[]  Int64[]  Int64[]  Int64[]     Int64[]  Int64[]  Int64[]  Int64[]\n Int64[]  Int64[]  Int64[]  Int64[]     Int64[]  Int64[]  Int64[]  Int64[]\n Int64[]  Int64[]  Int64[]  Int64[]     Int64[]  Int64[]  Int64[]  Int64[]\n Int64[]  Int64[]  Int64[]  Int64[]  …  Int64[]  Int64[]  Int64[]  Int64[]\n Int64[]  Int64[]  Int64[]  Int64[]     Int64[]  Int64[]  Int64[]  Int64[]\n Int64[]  Int64[]  Int64[]  Int64[]     Int64[]  Int64[]  Int64[]  Int64[]\n Int64[]  Int64[]  Int64[]  Int64[]     Int64[]  Int64[]  Int64[]  Int64[]\n Int64[]  Int64[]  Int64[]  Int64[]     Int64[]  Int64[]  Int64[]  Int64[]\n\n[:, :, 5] =\n Int64[]  Int64[]  Int64[]  Int64[]  …  Int64[]  Int64[]  Int64[]  Int64[]\n Int64[]  Int64[]  Int64[]  Int64[]     Int64[]  Int64[]  Int64[]  Int64[]\n Int64[]  Int64[]  Int64[]  Int64[]     Int64[]  Int64[]  Int64[]  Int64[]\n Int64[]  Int64[]  Int64[]  Int64[]     Int64[]  Int64[]  Int64[]  Int64[]\n Int64[]  Int64[]  Int64[]  Int64[]     Int64[]  Int64[]  Int64[]  Int64[]\n Int64[]  Int64[]  Int64[]  Int64[]  …  Int64[]  Int64[]  Int64[]  Int64[]\n Int64[]  Int64[]  Int64[]  Int64[]     Int64[]  Int64[]  Int64[]  Int64[]\n Int64[]  Int64[]  Int64[]  Int64[]     Int64[]  Int64[]  Int64[]  Int64[]\n Int64[]  Int64[]  Int64[]  Int64[]     Int64[]  Int64[]  Int64[]  Int64[]\n Int64[]  Int64[]  Int64[]  Int64[]     Int64[]  Int64[]  Int64[]  Int64[]\n\n[:, :, 6] =\n Int64[]  Int64[]  Int64[]  Int64[]  …  Int64[]  Int64[]  Int64[]  Int64[]\n Int64[]  Int64[]  Int64[]  Int64[]     Int64[]  Int64[]  Int64[]  Int64[]\n Int64[]  Int64[]  Int64[]  Int64[]     Int64[]  Int64[]  Int64[]  Int64[]\n Int64[]  Int64[]  Int64[]  Int64[]     Int64[]  Int64[]  Int64[]  Int64[]\n Int64[]  Int64[]  Int64[]  Int64[]     Int64[]  Int64[]  Int64[]  Int64[]\n Int64[]  Int64[]  Int64[]  Int64[]  …  Int64[]  Int64[]  Int64[]  Int64[]\n Int64[]  Int64[]  Int64[]  Int64[]     Int64[]  Int64[]  Int64[]  Int64[]\n Int64[]  Int64[]  Int64[]  Int64[]     Int64[]  Int64[]  Int64[]  Int64[]\n Int64[]  Int64[]  Int64[]  Int64[]     Int64[]  Int64[]  Int64[]  Int64[]\n Int64[]  Int64[]  Int64[]  Int64[]     Int64[]  Int64[]  Int64[]  Int64[]\n\n[:, :, 7] =\n Int64[]  Int64[]  Int64[]  Int64[]  …  Int64[]  Int64[]  Int64[]  Int64[]\n Int64[]  Int64[]  Int64[]  Int64[]     Int64[]  Int64[]  Int64[]  Int64[]\n Int64[]  Int64[]  Int64[]  Int64[]     Int64[]  Int64[]  Int64[]  Int64[]\n Int64[]  Int64[]  Int64[]  Int64[]     Int64[]  Int64[]  Int64[]  Int64[]\n Int64[]  Int64[]  Int64[]  Int64[]     Int64[]  Int64[]  Int64[]  Int64[]\n Int64[]  Int64[]  Int64[]  Int64[]  …  Int64[]  Int64[]  Int64[]  Int64[]\n Int64[]  Int64[]  Int64[]  Int64[]     Int64[]  Int64[]  Int64[]  Int64[]\n Int64[]  Int64[]  Int64[]  Int64[]     Int64[]  Int64[]  Int64[]  Int64[]\n Int64[]  Int64[]  Int64[]  Int64[]     Int64[]  Int64[]  Int64[]  Int64[]\n Int64[]  Int64[]  Int64[]  Int64[]     Int64[]  Int64[]  Int64[]  Int64[]\n\n[:, :, 8] =\n Int64[]  Int64[]  Int64[]  Int64[]  …  Int64[]  Int64[]  Int64[]  Int64[]\n Int64[]  Int64[]  Int64[]  Int64[]     Int64[]  Int64[]  Int64[]  Int64[]\n Int64[]  Int64[]  Int64[]  Int64[]     Int64[]  Int64[]  Int64[]  Int64[]\n Int64[]  Int64[]  Int64[]  Int64[]     Int64[]  Int64[]  Int64[]  Int64[]\n Int64[]  Int64[]  Int64[]  Int64[]     Int64[]  Int64[]  Int64[]  Int64[]\n Int64[]  Int64[]  Int64[]  Int64[]  …  Int64[]  Int64[]  Int64[]  Int64[]\n Int64[]  Int64[]  Int64[]  Int64[]     Int64[]  Int64[]  Int64[]  Int64[]\n Int64[]  Int64[]  Int64[]  Int64[]     Int64[]  Int64[]  Int64[]  Int64[]\n Int64[]  Int64[]  Int64[]  Int64[]     Int64[]  Int64[]  Int64[]  Int64[]\n Int64[]  Int64[]  Int64[]  Int64[]     Int64[]  Int64[]  Int64[]  Int64[]\n\n[:, :, 9] =\n Int64[]  Int64[]  Int64[]  Int64[]  …  Int64[]  Int64[]  Int64[]  Int64[]\n Int64[]  Int64[]  Int64[]  Int64[]     Int64[]  Int64[]  Int64[]  Int64[]\n Int64[]  Int64[]  Int64[]  Int64[]     Int64[]  Int64[]  Int64[]  Int64[]\n Int64[]  Int64[]  Int64[]  Int64[]     Int64[]  Int64[]  Int64[]  Int64[]\n Int64[]  Int64[]  Int64[]  Int64[]     Int64[]  Int64[]  Int64[]  Int64[]\n Int64[]  Int64[]  Int64[]  Int64[]  …  Int64[]  Int64[]  Int64[]  Int64[]\n Int64[]  Int64[]  Int64[]  Int64[]     Int64[]  Int64[]  Int64[]  Int64[]\n Int64[]  Int64[]  Int64[]  Int64[]     Int64[]  Int64[]  Int64[]  Int64[]\n Int64[]  Int64[]  Int64[]  Int64[]     Int64[]  Int64[]  Int64[]  Int64[]\n Int64[]  Int64[]  Int64[]  Int64[]     Int64[]  Int64[]  Int64[]  Int64[]\n\n[:, :, 10] =\n Int64[]  Int64[]  Int64[]  Int64[]  …  Int64[]  Int64[]  Int64[]  Int64[]\n Int64[]  Int64[]  Int64[]  Int64[]     Int64[]  Int64[]  Int64[]  Int64[]\n Int64[]  Int64[]  Int64[]  Int64[]     Int64[]  Int64[]  Int64[]  Int64[]\n Int64[]  Int64[]  Int64[]  Int64[]     Int64[]  Int64[]  Int64[]  Int64[]\n Int64[]  Int64[]  Int64[]  Int64[]     Int64[]  Int64[]  Int64[]  Int64[]\n Int64[]  Int64[]  Int64[]  Int64[]  …  Int64[]  Int64[]  Int64[]  Int64[]\n Int64[]  Int64[]  Int64[]  Int64[]     Int64[]  Int64[]  Int64[]  Int64[]\n Int64[]  Int64[]  Int64[]  Int64[]     Int64[]  Int64[]  Int64[]  Int64[]\n Int64[]  Int64[]  Int64[]  Int64[]     Int64[]  Int64[]  Int64[]  Int64[]\n Int64[]  Int64[]  Int64[]  Int64[]     Int64[]  Int64[]  Int64[]  Int64[]\n  at index [8,4,14]\nwhile loading In[60], in expression starting on line 1",
     "output_type": "error",
     "traceback": [
      "LoadError: BoundsError: attempt to access 10x10x10 Array{Array{Int64,1},3}:\n[:, :, 1] =\n Int64[]  Int64[]  Int64[]  Int64[]  …  Int64[]  Int64[]  Int64[]  Int64[]\n Int64[]  Int64[]  Int64[]  Int64[]     Int64[]  Int64[]  Int64[]  Int64[]\n Int64[]  Int64[]  Int64[]  Int64[]     Int64[]  Int64[]  Int64[]  Int64[]\n Int64[]  Int64[]  Int64[]  Int64[]     Int64[]  Int64[]  Int64[]  Int64[]\n Int64[]  Int64[]  Int64[]  Int64[]     Int64[]  Int64[]  Int64[]  Int64[]\n Int64[]  Int64[]  Int64[]  Int64[]  …  Int64[]  Int64[]  Int64[]  Int64[]\n Int64[]  Int64[]  Int64[]  Int64[]     Int64[]  Int64[]  Int64[]  Int64[]\n Int64[]  Int64[]  Int64[]  Int64[]     Int64[]  Int64[]  Int64[]  Int64[]\n Int64[]  Int64[]  Int64[]  Int64[]     Int64[]  Int64[]  Int64[]  Int64[]\n Int64[]  Int64[]  Int64[]  Int64[]     Int64[]  Int64[]  Int64[]  Int64[]\n\n[:, :, 2] =\n Int64[]  Int64[]  Int64[]  Int64[]  …  Int64[]  Int64[]  Int64[]  Int64[]\n Int64[]  Int64[]  Int64[]  Int64[]     Int64[]  Int64[]  Int64[]  Int64[]\n Int64[]  Int64[]  Int64[]  Int64[]     Int64[]  Int64[]  Int64[]  Int64[]\n Int64[]  Int64[]  Int64[]  Int64[]     Int64[]  Int64[]  Int64[]  Int64[]\n Int64[]  Int64[]  Int64[]  Int64[]     Int64[]  Int64[]  Int64[]  Int64[]\n Int64[]  Int64[]  Int64[]  Int64[]  …  Int64[]  Int64[]  Int64[]  Int64[]\n Int64[]  Int64[]  Int64[]  Int64[]     Int64[]  Int64[]  Int64[]  Int64[]\n Int64[]  Int64[]  Int64[]  Int64[]     Int64[]  Int64[]  Int64[]  Int64[]\n Int64[]  Int64[]  Int64[]  Int64[]     Int64[]  Int64[]  Int64[]  Int64[]\n Int64[]  Int64[]  Int64[]  Int64[]     Int64[]  Int64[]  Int64[]  Int64[]\n\n[:, :, 3] =\n Int64[]  Int64[]  Int64[]  Int64[]  …  Int64[]  Int64[]  Int64[]  Int64[]\n Int64[]  Int64[]  Int64[]  Int64[]     Int64[]  Int64[]  Int64[]  Int64[]\n Int64[]  Int64[]  Int64[]  Int64[]     Int64[]  Int64[]  Int64[]  Int64[]\n Int64[]  Int64[]  Int64[]  Int64[]     Int64[]  Int64[]  Int64[]  Int64[]\n Int64[]  Int64[]  Int64[]  Int64[]     Int64[]  Int64[]  Int64[]  Int64[]\n Int64[]  Int64[]  Int64[]  Int64[]  …  Int64[]  Int64[]  Int64[]  Int64[]\n Int64[]  Int64[]  Int64[]  Int64[]     Int64[]  Int64[]  Int64[]  Int64[]\n Int64[]  Int64[]  Int64[]  Int64[]     Int64[]  Int64[]  Int64[]  Int64[]\n Int64[]  Int64[]  Int64[]  Int64[]     Int64[]  Int64[]  Int64[]  Int64[]\n Int64[]  Int64[]  Int64[]  Int64[]     Int64[]  Int64[]  Int64[]  Int64[]\n\n[:, :, 4] =\n Int64[]  Int64[]  Int64[]  Int64[]  …  Int64[]  Int64[]  Int64[]  Int64[]\n Int64[]  Int64[]  Int64[]  Int64[]     Int64[]  Int64[]  Int64[]  Int64[]\n Int64[]  Int64[]  Int64[]  Int64[]     Int64[]  Int64[]  Int64[]  Int64[]\n Int64[]  Int64[]  Int64[]  Int64[]     Int64[]  Int64[]  Int64[]  Int64[]\n Int64[]  Int64[]  Int64[]  Int64[]     Int64[]  Int64[]  Int64[]  Int64[]\n Int64[]  Int64[]  Int64[]  Int64[]  …  Int64[]  Int64[]  Int64[]  Int64[]\n Int64[]  Int64[]  Int64[]  Int64[]     Int64[]  Int64[]  Int64[]  Int64[]\n Int64[]  Int64[]  Int64[]  Int64[]     Int64[]  Int64[]  Int64[]  Int64[]\n Int64[]  Int64[]  Int64[]  Int64[]     Int64[]  Int64[]  Int64[]  Int64[]\n Int64[]  Int64[]  Int64[]  Int64[]     Int64[]  Int64[]  Int64[]  Int64[]\n\n[:, :, 5] =\n Int64[]  Int64[]  Int64[]  Int64[]  …  Int64[]  Int64[]  Int64[]  Int64[]\n Int64[]  Int64[]  Int64[]  Int64[]     Int64[]  Int64[]  Int64[]  Int64[]\n Int64[]  Int64[]  Int64[]  Int64[]     Int64[]  Int64[]  Int64[]  Int64[]\n Int64[]  Int64[]  Int64[]  Int64[]     Int64[]  Int64[]  Int64[]  Int64[]\n Int64[]  Int64[]  Int64[]  Int64[]     Int64[]  Int64[]  Int64[]  Int64[]\n Int64[]  Int64[]  Int64[]  Int64[]  …  Int64[]  Int64[]  Int64[]  Int64[]\n Int64[]  Int64[]  Int64[]  Int64[]     Int64[]  Int64[]  Int64[]  Int64[]\n Int64[]  Int64[]  Int64[]  Int64[]     Int64[]  Int64[]  Int64[]  Int64[]\n Int64[]  Int64[]  Int64[]  Int64[]     Int64[]  Int64[]  Int64[]  Int64[]\n Int64[]  Int64[]  Int64[]  Int64[]     Int64[]  Int64[]  Int64[]  Int64[]\n\n[:, :, 6] =\n Int64[]  Int64[]  Int64[]  Int64[]  …  Int64[]  Int64[]  Int64[]  Int64[]\n Int64[]  Int64[]  Int64[]  Int64[]     Int64[]  Int64[]  Int64[]  Int64[]\n Int64[]  Int64[]  Int64[]  Int64[]     Int64[]  Int64[]  Int64[]  Int64[]\n Int64[]  Int64[]  Int64[]  Int64[]     Int64[]  Int64[]  Int64[]  Int64[]\n Int64[]  Int64[]  Int64[]  Int64[]     Int64[]  Int64[]  Int64[]  Int64[]\n Int64[]  Int64[]  Int64[]  Int64[]  …  Int64[]  Int64[]  Int64[]  Int64[]\n Int64[]  Int64[]  Int64[]  Int64[]     Int64[]  Int64[]  Int64[]  Int64[]\n Int64[]  Int64[]  Int64[]  Int64[]     Int64[]  Int64[]  Int64[]  Int64[]\n Int64[]  Int64[]  Int64[]  Int64[]     Int64[]  Int64[]  Int64[]  Int64[]\n Int64[]  Int64[]  Int64[]  Int64[]     Int64[]  Int64[]  Int64[]  Int64[]\n\n[:, :, 7] =\n Int64[]  Int64[]  Int64[]  Int64[]  …  Int64[]  Int64[]  Int64[]  Int64[]\n Int64[]  Int64[]  Int64[]  Int64[]     Int64[]  Int64[]  Int64[]  Int64[]\n Int64[]  Int64[]  Int64[]  Int64[]     Int64[]  Int64[]  Int64[]  Int64[]\n Int64[]  Int64[]  Int64[]  Int64[]     Int64[]  Int64[]  Int64[]  Int64[]\n Int64[]  Int64[]  Int64[]  Int64[]     Int64[]  Int64[]  Int64[]  Int64[]\n Int64[]  Int64[]  Int64[]  Int64[]  …  Int64[]  Int64[]  Int64[]  Int64[]\n Int64[]  Int64[]  Int64[]  Int64[]     Int64[]  Int64[]  Int64[]  Int64[]\n Int64[]  Int64[]  Int64[]  Int64[]     Int64[]  Int64[]  Int64[]  Int64[]\n Int64[]  Int64[]  Int64[]  Int64[]     Int64[]  Int64[]  Int64[]  Int64[]\n Int64[]  Int64[]  Int64[]  Int64[]     Int64[]  Int64[]  Int64[]  Int64[]\n\n[:, :, 8] =\n Int64[]  Int64[]  Int64[]  Int64[]  …  Int64[]  Int64[]  Int64[]  Int64[]\n Int64[]  Int64[]  Int64[]  Int64[]     Int64[]  Int64[]  Int64[]  Int64[]\n Int64[]  Int64[]  Int64[]  Int64[]     Int64[]  Int64[]  Int64[]  Int64[]\n Int64[]  Int64[]  Int64[]  Int64[]     Int64[]  Int64[]  Int64[]  Int64[]\n Int64[]  Int64[]  Int64[]  Int64[]     Int64[]  Int64[]  Int64[]  Int64[]\n Int64[]  Int64[]  Int64[]  Int64[]  …  Int64[]  Int64[]  Int64[]  Int64[]\n Int64[]  Int64[]  Int64[]  Int64[]     Int64[]  Int64[]  Int64[]  Int64[]\n Int64[]  Int64[]  Int64[]  Int64[]     Int64[]  Int64[]  Int64[]  Int64[]\n Int64[]  Int64[]  Int64[]  Int64[]     Int64[]  Int64[]  Int64[]  Int64[]\n Int64[]  Int64[]  Int64[]  Int64[]     Int64[]  Int64[]  Int64[]  Int64[]\n\n[:, :, 9] =\n Int64[]  Int64[]  Int64[]  Int64[]  …  Int64[]  Int64[]  Int64[]  Int64[]\n Int64[]  Int64[]  Int64[]  Int64[]     Int64[]  Int64[]  Int64[]  Int64[]\n Int64[]  Int64[]  Int64[]  Int64[]     Int64[]  Int64[]  Int64[]  Int64[]\n Int64[]  Int64[]  Int64[]  Int64[]     Int64[]  Int64[]  Int64[]  Int64[]\n Int64[]  Int64[]  Int64[]  Int64[]     Int64[]  Int64[]  Int64[]  Int64[]\n Int64[]  Int64[]  Int64[]  Int64[]  …  Int64[]  Int64[]  Int64[]  Int64[]\n Int64[]  Int64[]  Int64[]  Int64[]     Int64[]  Int64[]  Int64[]  Int64[]\n Int64[]  Int64[]  Int64[]  Int64[]     Int64[]  Int64[]  Int64[]  Int64[]\n Int64[]  Int64[]  Int64[]  Int64[]     Int64[]  Int64[]  Int64[]  Int64[]\n Int64[]  Int64[]  Int64[]  Int64[]     Int64[]  Int64[]  Int64[]  Int64[]\n\n[:, :, 10] =\n Int64[]  Int64[]  Int64[]  Int64[]  …  Int64[]  Int64[]  Int64[]  Int64[]\n Int64[]  Int64[]  Int64[]  Int64[]     Int64[]  Int64[]  Int64[]  Int64[]\n Int64[]  Int64[]  Int64[]  Int64[]     Int64[]  Int64[]  Int64[]  Int64[]\n Int64[]  Int64[]  Int64[]  Int64[]     Int64[]  Int64[]  Int64[]  Int64[]\n Int64[]  Int64[]  Int64[]  Int64[]     Int64[]  Int64[]  Int64[]  Int64[]\n Int64[]  Int64[]  Int64[]  Int64[]  …  Int64[]  Int64[]  Int64[]  Int64[]\n Int64[]  Int64[]  Int64[]  Int64[]     Int64[]  Int64[]  Int64[]  Int64[]\n Int64[]  Int64[]  Int64[]  Int64[]     Int64[]  Int64[]  Int64[]  Int64[]\n Int64[]  Int64[]  Int64[]  Int64[]     Int64[]  Int64[]  Int64[]  Int64[]\n Int64[]  Int64[]  Int64[]  Int64[]     Int64[]  Int64[]  Int64[]  Int64[]\n  at index [8,4,14]\nwhile loading In[60], in expression starting on line 1",
      "",
      " in teselador_mat at In[37]:14",
      " in vector_fuerzas at In[49]:13",
      " in paso_verlet at In[56]:7",
      " in paso_verlet at In[56]:4"
     ]
    }
   ],
   "source": [
    "X5 = paso_verlet(X3, X4, lado, 2^60);"
   ]
  },
  {
   "cell_type": "code",
   "execution_count": 61,
   "metadata": {
    "collapsed": false
   },
   "outputs": [
    {
     "data": {
      "text/plain": [
       "2x3 Array{Int64,2}:\n",
       " 1  2  3\n",
       " 4  5  6"
      ]
     },
     "execution_count": 61,
     "metadata": {},
     "output_type": "execute_result"
    }
   ],
   "source": [
    "a = [1 2 3 ; 4 5 6 ]"
   ]
  },
  {
   "cell_type": "code",
   "execution_count": 62,
   "metadata": {
    "collapsed": false
   },
   "outputs": [
    {
     "data": {
      "text/plain": [
       "2-element Array{Int64,1}:\n",
       " 1\n",
       " 4"
      ]
     },
     "execution_count": 62,
     "metadata": {},
     "output_type": "execute_result"
    }
   ],
   "source": [
    "a[:,1]"
   ]
  },
  {
   "cell_type": "code",
   "execution_count": 63,
   "metadata": {
    "collapsed": false
   },
   "outputs": [
    {
     "data": {
      "text/plain": [
       "3-element Array{Int64,1}:\n",
       " 5\n",
       " 6\n",
       " 7"
      ]
     },
     "execution_count": 63,
     "metadata": {},
     "output_type": "execute_result"
    }
   ],
   "source": [
    "a[1,:] = [5,6,7]"
   ]
  },
  {
   "cell_type": "code",
   "execution_count": 64,
   "metadata": {
    "collapsed": false
   },
   "outputs": [
    {
     "data": {
      "text/plain": [
       "evolucion (generic function with 4 methods)"
      ]
     },
     "execution_count": 64,
     "metadata": {},
     "output_type": "execute_result"
    }
   ],
   "source": [
    "function evolucion{T<:Int64}(X0::Vector{T}, X1::Vector{T}, pasos::T, lado_caja::Float64 ,cajitas::Int64 = 2^60, r_c::Float64 = 2.5, h::Float64 = 0.005)\n",
    "\n",
    "#     registro = Vector{Int64}[X_0, X_1]\n",
    "#     sizehint!(registro, pasos+2)\n",
    "#     println(typeof(registro))\n",
    "\n",
    "    largo = length(X0)\n",
    "    registro = Matrix{Int64}(largo,pasos+2)\n",
    "    registro[:,1] = X0\n",
    "    registro[:,2] = X1\n",
    "    \n",
    "\n",
    "    for t in 3:pasos+2\n",
    "        registro[:,t] = paso_verlet(collect(registro[:,t-2]),collect(registro[:,t-1]), lado_caja, cajitas, r_c, h)\n",
    " #         push!(registro, X2)\n",
    "#         X0, X1, X2 = X1, X2, X0\n",
    "    end\n",
    "    registro\n",
    "end"
   ]
  },
  {
   "cell_type": "code",
   "execution_count": 65,
   "metadata": {
    "collapsed": false,
    "scrolled": false
   },
   "outputs": [
    {
     "ename": "LoadError",
     "evalue": "LoadError: BoundsError: attempt to access 10x10x10 Array{Array{Int64,1},3}:\n[:, :, 1] =\n Int64[]  Int64[]  Int64[]  Int64[]  …  Int64[]  Int64[]  Int64[]  Int64[]\n Int64[]  Int64[]  Int64[]  Int64[]     Int64[]  Int64[]  Int64[]  Int64[]\n Int64[]  Int64[]  Int64[]  Int64[]     Int64[]  Int64[]  Int64[]  Int64[]\n Int64[]  Int64[]  Int64[]  Int64[]     Int64[]  Int64[]  Int64[]  Int64[]\n Int64[]  Int64[]  Int64[]  Int64[]     Int64[]  Int64[]  Int64[]  Int64[]\n Int64[]  Int64[]  Int64[]  Int64[]  …  Int64[]  Int64[]  Int64[]  Int64[]\n Int64[]  Int64[]  Int64[]  Int64[]     Int64[]  Int64[]  Int64[]  Int64[]\n Int64[]  Int64[]  Int64[]  Int64[]     Int64[]  Int64[]  Int64[]  Int64[]\n Int64[]  Int64[]  Int64[]  Int64[]     Int64[]  Int64[]  Int64[]  Int64[]\n Int64[]  Int64[]  Int64[]  Int64[]     Int64[]  Int64[]  Int64[]  Int64[]\n\n[:, :, 2] =\n Int64[]  Int64[]  Int64[]  Int64[]  …  Int64[]  Int64[]  Int64[]  Int64[]\n Int64[]  Int64[]  Int64[]  Int64[]     Int64[]  Int64[]  Int64[]  Int64[]\n Int64[]  Int64[]  Int64[]  Int64[]     Int64[]  Int64[]  Int64[]  Int64[]\n Int64[]  Int64[]  Int64[]  Int64[]     Int64[]  Int64[]  Int64[]  Int64[]\n Int64[]  Int64[]  Int64[]  Int64[]     Int64[]  Int64[]  Int64[]  Int64[]\n Int64[]  Int64[]  Int64[]  Int64[]  …  Int64[]  Int64[]  Int64[]  Int64[]\n Int64[]  Int64[]  Int64[]  Int64[]     Int64[]  Int64[]  Int64[]  Int64[]\n Int64[]  Int64[]  Int64[]  Int64[]     Int64[]  Int64[]  Int64[]  Int64[]\n Int64[]  Int64[]  Int64[]  Int64[]     Int64[]  Int64[]  Int64[]  Int64[]\n Int64[]  Int64[]  Int64[]  Int64[]     Int64[]  Int64[]  Int64[]  Int64[]\n\n[:, :, 3] =\n Int64[]  Int64[]  Int64[]  Int64[]  …  Int64[]  Int64[]  Int64[]  Int64[]\n Int64[]  Int64[]  Int64[]  Int64[]     Int64[]  Int64[]  Int64[]  Int64[]\n Int64[]  Int64[]  Int64[]  Int64[]     Int64[]  Int64[]  Int64[]  Int64[]\n Int64[]  Int64[]  Int64[]  Int64[]     Int64[]  Int64[]  Int64[]  Int64[]\n Int64[]  Int64[]  Int64[]  Int64[]     Int64[]  Int64[]  Int64[]  Int64[]\n Int64[]  Int64[]  Int64[]  Int64[]  …  Int64[]  Int64[]  Int64[]  Int64[]\n Int64[]  Int64[]  Int64[]  Int64[]     Int64[]  Int64[]  Int64[]  Int64[]\n Int64[]  Int64[]  Int64[]  Int64[]     Int64[]  Int64[]  Int64[]  Int64[]\n Int64[]  Int64[]  Int64[]  Int64[]     Int64[]  Int64[]  Int64[]  Int64[]\n Int64[]  Int64[]  Int64[]  Int64[]     Int64[]  Int64[]  Int64[]  Int64[]\n\n[:, :, 4] =\n Int64[]  Int64[]  Int64[]  Int64[]  …  Int64[]  Int64[]  Int64[]  Int64[]\n Int64[]  Int64[]  Int64[]  Int64[]     Int64[]  Int64[]  Int64[]  Int64[]\n Int64[]  Int64[]  Int64[]  Int64[]     Int64[]  Int64[]  Int64[]  Int64[]\n Int64[]  Int64[]  Int64[]  Int64[]     Int64[]  Int64[]  Int64[]  Int64[]\n Int64[]  Int64[]  Int64[]  Int64[]     Int64[]  Int64[]  Int64[]  Int64[]\n Int64[]  Int64[]  Int64[]  Int64[]  …  Int64[]  Int64[]  Int64[]  Int64[]\n Int64[]  Int64[]  Int64[]  Int64[]     Int64[]  Int64[]  Int64[]  Int64[]\n Int64[]  Int64[]  Int64[]  Int64[]     Int64[]  Int64[]  Int64[]  Int64[]\n Int64[]  Int64[]  Int64[]  Int64[]     Int64[]  Int64[]  Int64[]  Int64[]\n Int64[]  Int64[]  Int64[]  Int64[]     Int64[]  Int64[]  Int64[]  Int64[]\n\n[:, :, 5] =\n Int64[]  Int64[]  Int64[]  Int64[]  …  Int64[]  Int64[]  Int64[]  Int64[]\n Int64[]  Int64[]  Int64[]  Int64[]     Int64[]  Int64[]  Int64[]  Int64[]\n Int64[]  Int64[]  Int64[]  Int64[]     Int64[]  Int64[]  Int64[]  Int64[]\n Int64[]  Int64[]  Int64[]  Int64[]     Int64[]  Int64[]  Int64[]  Int64[]\n Int64[]  Int64[]  Int64[]  Int64[]     Int64[]  Int64[]  Int64[]  Int64[]\n Int64[]  Int64[]  Int64[]  Int64[]  …  Int64[]  Int64[]  Int64[]  Int64[]\n Int64[]  Int64[]  Int64[]  Int64[]     Int64[]  Int64[]  Int64[]  Int64[]\n Int64[]  Int64[]  Int64[]  Int64[]     Int64[]  Int64[]  Int64[]  Int64[]\n Int64[]  Int64[]  Int64[]  Int64[]     Int64[]  Int64[]  Int64[]  Int64[]\n Int64[]  Int64[]  Int64[]  Int64[]     Int64[]  Int64[]  Int64[]  Int64[]\n\n[:, :, 6] =\n Int64[]  Int64[]  Int64[]  Int64[]  …  Int64[]  Int64[]  Int64[]  Int64[]\n Int64[]  Int64[]  Int64[]  Int64[]     Int64[]  Int64[]  Int64[]  Int64[]\n Int64[]  Int64[]  Int64[]  Int64[]     Int64[]  Int64[]  Int64[]  Int64[]\n Int64[]  Int64[]  Int64[]  Int64[]     Int64[]  Int64[]  Int64[]  Int64[]\n Int64[]  Int64[]  Int64[]  Int64[]     Int64[]  Int64[]  Int64[]  Int64[]\n Int64[]  Int64[]  Int64[]  Int64[]  …  Int64[]  Int64[]  Int64[]  Int64[]\n Int64[]  Int64[]  Int64[]  Int64[]     Int64[]  Int64[]  Int64[]  Int64[]\n Int64[]  Int64[]  Int64[]  Int64[]     Int64[]  Int64[]  Int64[]  Int64[]\n Int64[]  Int64[]  Int64[]  Int64[]     Int64[]  Int64[]  Int64[]  Int64[]\n Int64[]  Int64[]  Int64[]  Int64[]     Int64[]  Int64[]  Int64[]  Int64[]\n\n[:, :, 7] =\n Int64[]  Int64[]  Int64[]  Int64[]  …  Int64[]  Int64[]  Int64[]  Int64[]\n Int64[]  Int64[]  Int64[]  Int64[]     Int64[]  Int64[]  Int64[]  Int64[]\n Int64[]  Int64[]  Int64[]  Int64[]     Int64[]  Int64[]  Int64[]  Int64[]\n Int64[]  Int64[]  Int64[]  Int64[]     Int64[]  Int64[]  Int64[]  Int64[]\n Int64[]  Int64[]  Int64[]  Int64[]     Int64[]  Int64[]  Int64[]  Int64[]\n Int64[]  Int64[]  Int64[]  Int64[]  …  Int64[]  Int64[]  Int64[]  Int64[]\n Int64[]  Int64[]  Int64[]  Int64[]     Int64[]  Int64[]  Int64[]  Int64[]\n Int64[]  Int64[]  Int64[]  Int64[]     Int64[]  Int64[]  Int64[]  Int64[]\n Int64[]  Int64[]  Int64[]  Int64[]     Int64[]  Int64[]  Int64[]  Int64[]\n Int64[]  Int64[]  Int64[]  Int64[]     Int64[]  Int64[]  Int64[]  Int64[]\n\n[:, :, 8] =\n Int64[]  Int64[]  Int64[]  Int64[]  …  Int64[]  Int64[]  Int64[]  Int64[]\n Int64[]  Int64[]  Int64[]  Int64[]     Int64[]  Int64[]  Int64[]  Int64[]\n Int64[]  Int64[]  Int64[]  Int64[]     Int64[]  Int64[]  Int64[]  Int64[]\n Int64[]  Int64[]  Int64[]  Int64[]     Int64[]  Int64[]  Int64[]  Int64[]\n Int64[]  Int64[]  Int64[]  Int64[]     Int64[]  Int64[]  Int64[]  Int64[]\n Int64[]  Int64[]  Int64[]  Int64[]  …  Int64[]  Int64[]  Int64[]  Int64[]\n Int64[]  Int64[]  Int64[]  Int64[]     Int64[]  Int64[]  Int64[]  Int64[]\n Int64[]  Int64[]  Int64[]  Int64[]     Int64[]  Int64[]  Int64[]  Int64[]\n Int64[]  Int64[]  Int64[]  Int64[]     Int64[]  Int64[]  Int64[]  Int64[]\n Int64[]  Int64[]  Int64[]  Int64[]     Int64[]  Int64[]  Int64[]  Int64[]\n\n[:, :, 9] =\n Int64[]  Int64[]  Int64[]  Int64[]  …  Int64[]  Int64[]  Int64[]  Int64[]\n Int64[]  Int64[]  Int64[]  Int64[]     Int64[]  Int64[]  Int64[]  Int64[]\n Int64[]  Int64[]  Int64[]  Int64[]     Int64[]  Int64[]  Int64[]  Int64[]\n Int64[]  Int64[]  Int64[]  Int64[]     Int64[]  Int64[]  Int64[]  Int64[]\n Int64[]  Int64[]  Int64[]  Int64[]     Int64[]  Int64[]  Int64[]  Int64[]\n Int64[]  Int64[]  Int64[]  Int64[]  …  Int64[]  Int64[]  Int64[]  Int64[]\n Int64[]  Int64[]  Int64[]  Int64[]     Int64[]  Int64[]  Int64[]  Int64[]\n Int64[]  Int64[]  Int64[]  Int64[]     Int64[]  Int64[]  Int64[]  Int64[]\n Int64[]  Int64[]  Int64[]  Int64[]     Int64[]  Int64[]  Int64[]  Int64[]\n Int64[]  Int64[]  Int64[]  Int64[]     Int64[]  Int64[]  Int64[]  Int64[]\n\n[:, :, 10] =\n Int64[]  Int64[]  Int64[]  Int64[]  …  Int64[]  Int64[]  Int64[]  Int64[]\n Int64[]  Int64[]  Int64[]  Int64[]     Int64[]  Int64[]  Int64[]  Int64[]\n Int64[]  Int64[]  Int64[]  Int64[]     Int64[]  Int64[]  Int64[]  Int64[]\n Int64[]  Int64[]  Int64[]  Int64[]     Int64[]  Int64[]  Int64[]  Int64[]\n Int64[]  Int64[]  Int64[]  Int64[]     Int64[]  Int64[]  Int64[]  Int64[]\n Int64[]  Int64[]  Int64[]  Int64[]  …  Int64[]  Int64[]  Int64[]  Int64[]\n Int64[]  Int64[]  Int64[]  Int64[]     Int64[]  Int64[]  Int64[]  Int64[]\n Int64[]  Int64[]  Int64[]  Int64[]     Int64[]  Int64[]  Int64[]  Int64[]\n Int64[]  Int64[]  Int64[]  Int64[]     Int64[]  Int64[]  Int64[]  Int64[]\n Int64[]  Int64[]  Int64[]  Int64[]     Int64[]  Int64[]  Int64[]  Int64[]\n  at index [17,14,7]\nwhile loading In[65], in expression starting on line 2",
     "output_type": "error",
     "traceback": [
      "LoadError: BoundsError: attempt to access 10x10x10 Array{Array{Int64,1},3}:\n[:, :, 1] =\n Int64[]  Int64[]  Int64[]  Int64[]  …  Int64[]  Int64[]  Int64[]  Int64[]\n Int64[]  Int64[]  Int64[]  Int64[]     Int64[]  Int64[]  Int64[]  Int64[]\n Int64[]  Int64[]  Int64[]  Int64[]     Int64[]  Int64[]  Int64[]  Int64[]\n Int64[]  Int64[]  Int64[]  Int64[]     Int64[]  Int64[]  Int64[]  Int64[]\n Int64[]  Int64[]  Int64[]  Int64[]     Int64[]  Int64[]  Int64[]  Int64[]\n Int64[]  Int64[]  Int64[]  Int64[]  …  Int64[]  Int64[]  Int64[]  Int64[]\n Int64[]  Int64[]  Int64[]  Int64[]     Int64[]  Int64[]  Int64[]  Int64[]\n Int64[]  Int64[]  Int64[]  Int64[]     Int64[]  Int64[]  Int64[]  Int64[]\n Int64[]  Int64[]  Int64[]  Int64[]     Int64[]  Int64[]  Int64[]  Int64[]\n Int64[]  Int64[]  Int64[]  Int64[]     Int64[]  Int64[]  Int64[]  Int64[]\n\n[:, :, 2] =\n Int64[]  Int64[]  Int64[]  Int64[]  …  Int64[]  Int64[]  Int64[]  Int64[]\n Int64[]  Int64[]  Int64[]  Int64[]     Int64[]  Int64[]  Int64[]  Int64[]\n Int64[]  Int64[]  Int64[]  Int64[]     Int64[]  Int64[]  Int64[]  Int64[]\n Int64[]  Int64[]  Int64[]  Int64[]     Int64[]  Int64[]  Int64[]  Int64[]\n Int64[]  Int64[]  Int64[]  Int64[]     Int64[]  Int64[]  Int64[]  Int64[]\n Int64[]  Int64[]  Int64[]  Int64[]  …  Int64[]  Int64[]  Int64[]  Int64[]\n Int64[]  Int64[]  Int64[]  Int64[]     Int64[]  Int64[]  Int64[]  Int64[]\n Int64[]  Int64[]  Int64[]  Int64[]     Int64[]  Int64[]  Int64[]  Int64[]\n Int64[]  Int64[]  Int64[]  Int64[]     Int64[]  Int64[]  Int64[]  Int64[]\n Int64[]  Int64[]  Int64[]  Int64[]     Int64[]  Int64[]  Int64[]  Int64[]\n\n[:, :, 3] =\n Int64[]  Int64[]  Int64[]  Int64[]  …  Int64[]  Int64[]  Int64[]  Int64[]\n Int64[]  Int64[]  Int64[]  Int64[]     Int64[]  Int64[]  Int64[]  Int64[]\n Int64[]  Int64[]  Int64[]  Int64[]     Int64[]  Int64[]  Int64[]  Int64[]\n Int64[]  Int64[]  Int64[]  Int64[]     Int64[]  Int64[]  Int64[]  Int64[]\n Int64[]  Int64[]  Int64[]  Int64[]     Int64[]  Int64[]  Int64[]  Int64[]\n Int64[]  Int64[]  Int64[]  Int64[]  …  Int64[]  Int64[]  Int64[]  Int64[]\n Int64[]  Int64[]  Int64[]  Int64[]     Int64[]  Int64[]  Int64[]  Int64[]\n Int64[]  Int64[]  Int64[]  Int64[]     Int64[]  Int64[]  Int64[]  Int64[]\n Int64[]  Int64[]  Int64[]  Int64[]     Int64[]  Int64[]  Int64[]  Int64[]\n Int64[]  Int64[]  Int64[]  Int64[]     Int64[]  Int64[]  Int64[]  Int64[]\n\n[:, :, 4] =\n Int64[]  Int64[]  Int64[]  Int64[]  …  Int64[]  Int64[]  Int64[]  Int64[]\n Int64[]  Int64[]  Int64[]  Int64[]     Int64[]  Int64[]  Int64[]  Int64[]\n Int64[]  Int64[]  Int64[]  Int64[]     Int64[]  Int64[]  Int64[]  Int64[]\n Int64[]  Int64[]  Int64[]  Int64[]     Int64[]  Int64[]  Int64[]  Int64[]\n Int64[]  Int64[]  Int64[]  Int64[]     Int64[]  Int64[]  Int64[]  Int64[]\n Int64[]  Int64[]  Int64[]  Int64[]  …  Int64[]  Int64[]  Int64[]  Int64[]\n Int64[]  Int64[]  Int64[]  Int64[]     Int64[]  Int64[]  Int64[]  Int64[]\n Int64[]  Int64[]  Int64[]  Int64[]     Int64[]  Int64[]  Int64[]  Int64[]\n Int64[]  Int64[]  Int64[]  Int64[]     Int64[]  Int64[]  Int64[]  Int64[]\n Int64[]  Int64[]  Int64[]  Int64[]     Int64[]  Int64[]  Int64[]  Int64[]\n\n[:, :, 5] =\n Int64[]  Int64[]  Int64[]  Int64[]  …  Int64[]  Int64[]  Int64[]  Int64[]\n Int64[]  Int64[]  Int64[]  Int64[]     Int64[]  Int64[]  Int64[]  Int64[]\n Int64[]  Int64[]  Int64[]  Int64[]     Int64[]  Int64[]  Int64[]  Int64[]\n Int64[]  Int64[]  Int64[]  Int64[]     Int64[]  Int64[]  Int64[]  Int64[]\n Int64[]  Int64[]  Int64[]  Int64[]     Int64[]  Int64[]  Int64[]  Int64[]\n Int64[]  Int64[]  Int64[]  Int64[]  …  Int64[]  Int64[]  Int64[]  Int64[]\n Int64[]  Int64[]  Int64[]  Int64[]     Int64[]  Int64[]  Int64[]  Int64[]\n Int64[]  Int64[]  Int64[]  Int64[]     Int64[]  Int64[]  Int64[]  Int64[]\n Int64[]  Int64[]  Int64[]  Int64[]     Int64[]  Int64[]  Int64[]  Int64[]\n Int64[]  Int64[]  Int64[]  Int64[]     Int64[]  Int64[]  Int64[]  Int64[]\n\n[:, :, 6] =\n Int64[]  Int64[]  Int64[]  Int64[]  …  Int64[]  Int64[]  Int64[]  Int64[]\n Int64[]  Int64[]  Int64[]  Int64[]     Int64[]  Int64[]  Int64[]  Int64[]\n Int64[]  Int64[]  Int64[]  Int64[]     Int64[]  Int64[]  Int64[]  Int64[]\n Int64[]  Int64[]  Int64[]  Int64[]     Int64[]  Int64[]  Int64[]  Int64[]\n Int64[]  Int64[]  Int64[]  Int64[]     Int64[]  Int64[]  Int64[]  Int64[]\n Int64[]  Int64[]  Int64[]  Int64[]  …  Int64[]  Int64[]  Int64[]  Int64[]\n Int64[]  Int64[]  Int64[]  Int64[]     Int64[]  Int64[]  Int64[]  Int64[]\n Int64[]  Int64[]  Int64[]  Int64[]     Int64[]  Int64[]  Int64[]  Int64[]\n Int64[]  Int64[]  Int64[]  Int64[]     Int64[]  Int64[]  Int64[]  Int64[]\n Int64[]  Int64[]  Int64[]  Int64[]     Int64[]  Int64[]  Int64[]  Int64[]\n\n[:, :, 7] =\n Int64[]  Int64[]  Int64[]  Int64[]  …  Int64[]  Int64[]  Int64[]  Int64[]\n Int64[]  Int64[]  Int64[]  Int64[]     Int64[]  Int64[]  Int64[]  Int64[]\n Int64[]  Int64[]  Int64[]  Int64[]     Int64[]  Int64[]  Int64[]  Int64[]\n Int64[]  Int64[]  Int64[]  Int64[]     Int64[]  Int64[]  Int64[]  Int64[]\n Int64[]  Int64[]  Int64[]  Int64[]     Int64[]  Int64[]  Int64[]  Int64[]\n Int64[]  Int64[]  Int64[]  Int64[]  …  Int64[]  Int64[]  Int64[]  Int64[]\n Int64[]  Int64[]  Int64[]  Int64[]     Int64[]  Int64[]  Int64[]  Int64[]\n Int64[]  Int64[]  Int64[]  Int64[]     Int64[]  Int64[]  Int64[]  Int64[]\n Int64[]  Int64[]  Int64[]  Int64[]     Int64[]  Int64[]  Int64[]  Int64[]\n Int64[]  Int64[]  Int64[]  Int64[]     Int64[]  Int64[]  Int64[]  Int64[]\n\n[:, :, 8] =\n Int64[]  Int64[]  Int64[]  Int64[]  …  Int64[]  Int64[]  Int64[]  Int64[]\n Int64[]  Int64[]  Int64[]  Int64[]     Int64[]  Int64[]  Int64[]  Int64[]\n Int64[]  Int64[]  Int64[]  Int64[]     Int64[]  Int64[]  Int64[]  Int64[]\n Int64[]  Int64[]  Int64[]  Int64[]     Int64[]  Int64[]  Int64[]  Int64[]\n Int64[]  Int64[]  Int64[]  Int64[]     Int64[]  Int64[]  Int64[]  Int64[]\n Int64[]  Int64[]  Int64[]  Int64[]  …  Int64[]  Int64[]  Int64[]  Int64[]\n Int64[]  Int64[]  Int64[]  Int64[]     Int64[]  Int64[]  Int64[]  Int64[]\n Int64[]  Int64[]  Int64[]  Int64[]     Int64[]  Int64[]  Int64[]  Int64[]\n Int64[]  Int64[]  Int64[]  Int64[]     Int64[]  Int64[]  Int64[]  Int64[]\n Int64[]  Int64[]  Int64[]  Int64[]     Int64[]  Int64[]  Int64[]  Int64[]\n\n[:, :, 9] =\n Int64[]  Int64[]  Int64[]  Int64[]  …  Int64[]  Int64[]  Int64[]  Int64[]\n Int64[]  Int64[]  Int64[]  Int64[]     Int64[]  Int64[]  Int64[]  Int64[]\n Int64[]  Int64[]  Int64[]  Int64[]     Int64[]  Int64[]  Int64[]  Int64[]\n Int64[]  Int64[]  Int64[]  Int64[]     Int64[]  Int64[]  Int64[]  Int64[]\n Int64[]  Int64[]  Int64[]  Int64[]     Int64[]  Int64[]  Int64[]  Int64[]\n Int64[]  Int64[]  Int64[]  Int64[]  …  Int64[]  Int64[]  Int64[]  Int64[]\n Int64[]  Int64[]  Int64[]  Int64[]     Int64[]  Int64[]  Int64[]  Int64[]\n Int64[]  Int64[]  Int64[]  Int64[]     Int64[]  Int64[]  Int64[]  Int64[]\n Int64[]  Int64[]  Int64[]  Int64[]     Int64[]  Int64[]  Int64[]  Int64[]\n Int64[]  Int64[]  Int64[]  Int64[]     Int64[]  Int64[]  Int64[]  Int64[]\n\n[:, :, 10] =\n Int64[]  Int64[]  Int64[]  Int64[]  …  Int64[]  Int64[]  Int64[]  Int64[]\n Int64[]  Int64[]  Int64[]  Int64[]     Int64[]  Int64[]  Int64[]  Int64[]\n Int64[]  Int64[]  Int64[]  Int64[]     Int64[]  Int64[]  Int64[]  Int64[]\n Int64[]  Int64[]  Int64[]  Int64[]     Int64[]  Int64[]  Int64[]  Int64[]\n Int64[]  Int64[]  Int64[]  Int64[]     Int64[]  Int64[]  Int64[]  Int64[]\n Int64[]  Int64[]  Int64[]  Int64[]  …  Int64[]  Int64[]  Int64[]  Int64[]\n Int64[]  Int64[]  Int64[]  Int64[]     Int64[]  Int64[]  Int64[]  Int64[]\n Int64[]  Int64[]  Int64[]  Int64[]     Int64[]  Int64[]  Int64[]  Int64[]\n Int64[]  Int64[]  Int64[]  Int64[]     Int64[]  Int64[]  Int64[]  Int64[]\n Int64[]  Int64[]  Int64[]  Int64[]     Int64[]  Int64[]  Int64[]  Int64[]\n  at index [17,14,7]\nwhile loading In[65], in expression starting on line 2",
      "",
      " in teselador_mat at In[37]:14",
      " in vector_fuerzas at In[49]:13",
      " in paso_verlet at In[56]:7",
      " in evolucion at In[64]:14",
      " in evolucion at In[64]:7"
     ]
    }
   ],
   "source": [
    "pasitos = 2\n",
    "buba = evolucion(X0, X1, pasitos, lado, 2^58)  #por alguna razón no permite más de 2 pasos ?¡?¡"
   ]
  },
  {
   "cell_type": "markdown",
   "metadata": {},
   "source": [
    "### Simulación\n",
    "\n",
    "Vamos a generar una configuración inicial ordenada, la segunda configuración será la dada por una variación gaussiana respecto a la primera y de ahí en adelante se utilizará el algoritmo de Verlet."
   ]
  },
  {
   "cell_type": "code",
   "execution_count": null,
   "metadata": {
    "collapsed": true
   },
   "outputs": [],
   "source": []
  }
 ],
 "metadata": {
  "kernelspec": {
   "display_name": "Julia 0.4.4-pre",
   "language": "julia",
   "name": "julia-0.4"
  },
  "language_info": {
   "file_extension": ".jl",
   "mimetype": "application/julia",
   "name": "julia",
   "version": "0.4.4"
  }
 },
 "nbformat": 4,
 "nbformat_minor": 0
}
