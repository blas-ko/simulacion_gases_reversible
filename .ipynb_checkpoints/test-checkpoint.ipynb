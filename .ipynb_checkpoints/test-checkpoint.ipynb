{
 "cells": [
  {
   "cell_type": "code",
   "execution_count": 1,
   "metadata": {
    "collapsed": true
   },
   "outputs": [],
   "source": [
    "push!(LOAD_PATH,pwd())\n",
    "using LennardGas"
   ]
  },
  {
   "cell_type": "code",
   "execution_count": 2,
   "metadata": {
    "collapsed": false
   },
   "outputs": [],
   "source": [
    "r_c = 2.5\n",
    "L   = r_c * 10\n",
    "\n",
    "#Condición inicial (en Float64)\n",
    "inicial = randn(1200).+5\n",
    "segundo = fluctuacion_gaussiana(inicial, 0.1)\n",
    "#Condición inicial (en Int64)\n",
    "X0 = LennardGas.flotante_a_entero(inicial, L)\n",
    "X1 = LennardGas.flotante_a_entero(segundo, L);"
   ]
  },
  {
   "cell_type": "code",
   "execution_count": 3,
   "metadata": {
    "collapsed": false
   },
   "outputs": [
    {
     "name": "stdout",
     "output_type": "stream",
     "text": [
      "  "
     ]
    }
   ],
   "source": [
    "@time LennardGas.vector_fuerzas(X0 , L);"
   ]
  },
  {
   "cell_type": "code",
   "execution_count": 4,
   "metadata": {
    "collapsed": false
   },
   "outputs": [
    {
     "name": "stdout",
     "output_type": "stream",
     "text": [
      "0.157747 seconds (118.36 k allocations: 5.251 MB)\n",
      " 16.587716 seconds (2.57 M allocations: 242.395 MB, 0.09% gc time)\n"
     ]
    }
   ],
   "source": [
    "@time LennardGas.paso_verlet(X0, X1, L);"
   ]
  }
 ],
 "metadata": {
  "kernelspec": {
   "display_name": "Julia 0.4.4-pre",
   "language": "julia",
   "name": "julia-0.4"
  },
  "language_info": {
   "file_extension": ".jl",
   "mimetype": "application/julia",
   "name": "julia",
   "version": "0.4.4"
  }
 },
 "nbformat": 4,
 "nbformat_minor": 0
}
